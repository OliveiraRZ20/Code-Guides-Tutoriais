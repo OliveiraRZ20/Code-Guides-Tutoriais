{
 "cells": [
  {
   "cell_type": "markdown",
   "metadata": {},
   "source": [
    "# Biblioteca NUMPY\n",
    "\n",
    "pensa em uma das melhores e mais utilizadas bibliotecas de python, essa dai é a segunda delas, pois o pandas está em primeiro"
   ]
  },
  {
   "cell_type": "code",
   "execution_count": 2,
   "metadata": {},
   "outputs": [],
   "source": [
    "# primeiro de tudo é necessário importar a biblioteca, e isso vale para todos os arquivos .py\n",
    "# que voce criar ok\n",
    "\n",
    "import numpy as np\n",
    "# aqui podemos ver a nomeclatura \"as\" que serve pra dar um apelido pra bilioteca\n",
    "# ja que qualquer comando referente ao numpy, é necessário chamar a biblioteca"
   ]
  },
  {
   "cell_type": "code",
   "execution_count": 3,
   "metadata": {},
   "outputs": [
    {
     "name": "stdout",
     "output_type": "stream",
     "text": [
      "[ 1  2  3  4  5  6  7  8  9 10]\n"
     ]
    }
   ],
   "source": [
    "# agora podemos começar pelo famoso começo, que é criar o seu primeiro array\n",
    "# array = lista python só que com mais funções\n",
    "\n",
    "arr_ex = np.array([1,2,3,4,5,6,7,8,9,10])\n",
    "print(arr_ex)"
   ]
  },
  {
   "cell_type": "code",
   "execution_count": 4,
   "metadata": {},
   "outputs": [
    {
     "name": "stdout",
     "output_type": "stream",
     "text": [
      "<class 'numpy.ndarray'>\n"
     ]
    }
   ],
   "source": [
    "# agora vc pensa qual será o tipo desse \"array\" criado logo acima\n",
    "arr_ex = np.array([1,2,3,4,5,6,7,8,9,10])\n",
    "print(type(arr_ex))"
   ]
  },
  {
   "cell_type": "code",
   "execution_count": 5,
   "metadata": {},
   "outputs": [
    {
     "name": "stdout",
     "output_type": "stream",
     "text": [
      "5\n"
     ]
    }
   ],
   "source": [
    "# e assim como uma lista python, é possivel chamar elementos especificos\n",
    "arr_ex = np.array([1,2,3,4,5,6,7,8,9,10])\n",
    "print(arr_ex[4])"
   ]
  },
  {
   "cell_type": "code",
   "execution_count": 6,
   "metadata": {},
   "outputs": [
    {
     "name": "stdout",
     "output_type": "stream",
     "text": [
      "[2 3 5 7]\n"
     ]
    }
   ],
   "source": [
    "# um extra é que da pra mencionar diversos indíces ao mesmo tempo\n",
    "arr_ex = np.array([1,2,3,4,5,6,7,8,9,10])\n",
    "indices = [1,2,4,6]\n",
    "print(arr_ex[indices])"
   ]
  },
  {
   "cell_type": "code",
   "execution_count": 7,
   "metadata": {},
   "outputs": [
    {
     "name": "stdout",
     "output_type": "stream",
     "text": [
      "[ 2  4  6  8 10]\n"
     ]
    }
   ],
   "source": [
    "# ou então da pra fazer uma \"máscara\" encima de um array aplicando uma condição como índice\n",
    "arr_ex = np.array([1,2,3,4,5,6,7,8,9,10])\n",
    "mask = (arr_ex % 2 == 0)\n",
    "print(arr_ex[mask])"
   ]
  },
  {
   "cell_type": "code",
   "execution_count": 8,
   "metadata": {},
   "outputs": [
    {
     "name": "stdout",
     "output_type": "stream",
     "text": [
      "Acesso Negado\n",
      "[100   2   3   4   5   6   7   8   9  10]\n"
     ]
    }
   ],
   "source": [
    "# também é possivel substituir itens desse mesmo array com uma simples linha de código\n",
    "# porém somente com números, senão voce receberá uma mensagem de erro, comprovado abaixo\n",
    "arr_ex = np.array([1,2,3,4,5,6,7,8,9,10])\n",
    "arr_ex[0] = 100\n",
    "try:\n",
    "    arr_ex[1] = 'New element'\n",
    "except:\n",
    "    print(\"Acesso Negado\")\n",
    "print(arr_ex)"
   ]
  },
  {
   "cell_type": "code",
   "execution_count": 9,
   "metadata": {},
   "outputs": [
    {
     "name": "stdout",
     "output_type": "stream",
     "text": [
      "['Exemplo' '2' '3' '4' 'lucca' '5' '6' '7' 'True']\n"
     ]
    }
   ],
   "source": [
    "# a não ser que seja um array ja composto originalmente de outros tipos de variável como str e bool\n",
    "arr_ex = np.array([1,2,3,4,\"lucca\",5,6,7,True])\n",
    "arr_ex[0] = \"Exemplo\"\n",
    "print(arr_ex)"
   ]
  },
  {
   "cell_type": "markdown",
   "metadata": {},
   "source": [
    "# Funções e métodos do Numpy"
   ]
  },
  {
   "cell_type": "code",
   "execution_count": 10,
   "metadata": {},
   "outputs": [
    {
     "data": {
      "text/plain": [
       "array([ 1,  3,  6, 10, 15, 21, 28, 36, 45, 55])"
      ]
     },
     "execution_count": 10,
     "metadata": {},
     "output_type": "execute_result"
    }
   ],
   "source": [
    "# Função CUMSUM\n",
    "# ela faz com que um array se transforme nele mesmo so que a cada elemento ele vai somando o anterior com o atual\n",
    "arr_ex = np.array([1,2,3,4,5,6,7,8,9,10])\n",
    "arr_ex.cumsum()"
   ]
  },
  {
   "cell_type": "code",
   "execution_count": 11,
   "metadata": {},
   "outputs": [
    {
     "data": {
      "text/plain": [
       "array([      1,       2,       6,      24,     120,     720,    5040,\n",
       "         40320,  362880, 3628800])"
      ]
     },
     "execution_count": 11,
     "metadata": {},
     "output_type": "execute_result"
    }
   ],
   "source": [
    "# Função CUMPROD\n",
    "# faz a mesma coisa do CUMSUM só que ao inves de somar os itens ele multiplica\n",
    "arr_ex = np.array([1,2,3,4,5,6,7,8,9,10])\n",
    "arr_ex.cumprod()"
   ]
  },
  {
   "cell_type": "code",
   "execution_count": 12,
   "metadata": {},
   "outputs": [
    {
     "data": {
      "text/plain": [
       "array([ 0,  5, 10, 15, 20, 25, 30, 35, 40, 45])"
      ]
     },
     "execution_count": 12,
     "metadata": {},
     "output_type": "execute_result"
    }
   ],
   "source": [
    "# Função ARANGE\n",
    "# ele é igual ao RANGE do python básico\n",
    "# ex: arange(começo, fim, de quantos em quantos)\n",
    "arr_ex = np.arange(0,50,5)\n",
    "arr_ex"
   ]
  },
  {
   "cell_type": "code",
   "execution_count": 13,
   "metadata": {},
   "outputs": [
    {
     "data": {
      "text/plain": [
       "array([0., 0., 0., 0., 0., 0., 0., 0., 0., 0.])"
      ]
     },
     "execution_count": 13,
     "metadata": {},
     "output_type": "execute_result"
    }
   ],
   "source": [
    "# Função ZEROS\n",
    "# ele cria um array composto somente com o numero 0 do tamanho especificado\n",
    "arr_ex = np.zeros(10)\n",
    "arr_ex"
   ]
  },
  {
   "cell_type": "code",
   "execution_count": 15,
   "metadata": {},
   "outputs": [
    {
     "data": {
      "text/plain": [
       "array([[1., 0., 0., 0.],\n",
       "       [0., 1., 0., 0.],\n",
       "       [0., 0., 1., 0.],\n",
       "       [0., 0., 0., 1.]])"
      ]
     },
     "execution_count": 15,
     "metadata": {},
     "output_type": "execute_result"
    }
   ],
   "source": [
    "# Função EYE\n",
    "# ele retorna uma matriz composta somente por 0's e 1's, sendo o 1 na diagonal principal\n",
    "arr_ex = np.eye(4)\n",
    "arr_ex"
   ]
  },
  {
   "cell_type": "code",
   "execution_count": 39,
   "metadata": {},
   "outputs": [
    {
     "data": {
      "text/plain": [
       "array([[1, 0, 0, 0, 0],\n",
       "       [0, 2, 0, 0, 0],\n",
       "       [0, 0, 3, 0, 0],\n",
       "       [0, 0, 0, 4, 0],\n",
       "       [0, 0, 0, 0, 5]])"
      ]
     },
     "execution_count": 39,
     "metadata": {},
     "output_type": "execute_result"
    }
   ],
   "source": [
    "# Função DIAG\n",
    "# transforma o array mencionado na diagonal principal de uma matriz composta somente por 0\n",
    "arr_ex = np.diag(np.array([1,2,3,4,5]))\n",
    "arr_ex"
   ]
  },
  {
   "cell_type": "code",
   "execution_count": 40,
   "metadata": {},
   "outputs": [
    {
     "data": {
      "text/plain": [
       "array([[1., 1., 1., 1.],\n",
       "       [1., 1., 1., 1.],\n",
       "       [1., 1., 1., 1.]])"
      ]
     },
     "execution_count": 40,
     "metadata": {},
     "output_type": "execute_result"
    }
   ],
   "source": [
    "# Função ONES\n",
    "# retorna uma matriz com o tamanho especificado de linhas e colunas\n",
    "# ex: ones(num linhas, num colunas)\n",
    "arr_ex = np.ones((3,4))\n",
    "arr_ex"
   ]
  },
  {
   "cell_type": "code",
   "execution_count": 42,
   "metadata": {},
   "outputs": [
    {
     "data": {
      "text/plain": [
       "numpy.matrix"
      ]
     },
     "execution_count": 42,
     "metadata": {},
     "output_type": "execute_result"
    }
   ],
   "source": [
    "# Função MATRIX\n",
    "# essa função transforma o array escolhido no tipo .matrix\n",
    "# esse tipo de variavel é melhor pra matematica, e o array é melhor pra analise de dados\n",
    "arr_ex = np.array([1,2,3,4,5,6,7,8,9,10])\n",
    "arr_ex = np.matrix(arr_ex)\n",
    "type(arr_ex)"
   ]
  },
  {
   "cell_type": "code",
   "execution_count": 17,
   "metadata": {},
   "outputs": [
    {
     "data": {
      "text/plain": [
       "(3, 3)"
      ]
     },
     "execution_count": 17,
     "metadata": {},
     "output_type": "execute_result"
    }
   ],
   "source": [
    "# Função SHAPE\n",
    "# essa retorna as dimensões da sua matriz\n",
    "arr_ex = np.array([[1,2,3],\n",
    "                   [4,5,6],\n",
    "                   [7,8,9]])\n",
    "arr_ex = np.matrix(arr_ex)\n",
    "np.shape(arr_ex)"
   ]
  },
  {
   "cell_type": "code",
   "execution_count": 18,
   "metadata": {},
   "outputs": [
    {
     "data": {
      "text/plain": [
       "10"
      ]
     },
     "execution_count": 18,
     "metadata": {},
     "output_type": "execute_result"
    }
   ],
   "source": [
    "# Função SIZE\n",
    "# ele retorna o numero de elementos presentes no array\n",
    "arr_ex = np.array([1,2,3,4,5,6,7,8,9,10])\n",
    "arr_ex.size"
   ]
  },
  {
   "cell_type": "code",
   "execution_count": 19,
   "metadata": {},
   "outputs": [
    {
     "data": {
      "text/plain": [
       "4"
      ]
     },
     "execution_count": 19,
     "metadata": {},
     "output_type": "execute_result"
    }
   ],
   "source": [
    "# Função ITEMSIZE\n",
    "# ele retorna o numero de bytes necessarios para armazenar cada item no array\n",
    "arr_ex = np.array([1,2,3,4,5,6,7,8,9,10])\n",
    "arr_ex.itemsize"
   ]
  },
  {
   "cell_type": "code",
   "execution_count": 20,
   "metadata": {},
   "outputs": [
    {
     "data": {
      "text/plain": [
       "40"
      ]
     },
     "execution_count": 20,
     "metadata": {},
     "output_type": "execute_result"
    }
   ],
   "source": [
    "# Função NBYTES\n",
    "# ele retorna o numero de bytes total que aquele array consome\n",
    "arr_ex = np.array([1,2,3,4,5,6,7,8,9,10])\n",
    "arr_ex.nbytes"
   ]
  },
  {
   "cell_type": "code",
   "execution_count": 23,
   "metadata": {},
   "outputs": [
    {
     "name": "stdout",
     "output_type": "stream",
     "text": [
      "3\n",
      "(2, 3, 4)\n"
     ]
    }
   ],
   "source": [
    "# Função NDIM\n",
    "# ele retorna o número de dimensões do array\n",
    "arr_3d = np.array([[[1, 2, 3, 4],\n",
    "                    [5, 6, 7, 8],\n",
    "                    [9, 10, 11, 12]],\n",
    "                   [[13, 14, 15, 16],\n",
    "                    [17, 18, 19, 20],\n",
    "                    [21, 22, 23, 24]]])\n",
    "\n",
    "print(arr_3d.ndim)\n",
    "print(arr_3d.shape)"
   ]
  },
  {
   "cell_type": "code",
   "execution_count": 24,
   "metadata": {},
   "outputs": [
    {
     "data": {
      "text/plain": [
       "5.5"
      ]
     },
     "execution_count": 24,
     "metadata": {},
     "output_type": "execute_result"
    }
   ],
   "source": [
    "# Função MEAN\n",
    "# ele retorna a média aritmética de um array\n",
    "# (num1 + num2 + ... + numN) / N numeros\n",
    "arr_ex = np.array([1,2,3,4,5,6,7,8,9,10])\n",
    "np.mean(arr_ex)"
   ]
  },
  {
   "cell_type": "code",
   "execution_count": 25,
   "metadata": {},
   "outputs": [
    {
     "data": {
      "text/plain": [
       "2.8722813232690143"
      ]
     },
     "execution_count": 25,
     "metadata": {},
     "output_type": "execute_result"
    }
   ],
   "source": [
    "# Função STD\n",
    "# ele realiza o desvio padrão de um array\n",
    "# (((num1 - MédiaX)² + (num2 - MediaX)² + ... + (numN - MédiaX)²) / N numeros)**0.5\n",
    "arr_ex = np.array([1,2,3,4,5,6,7,8,9,10])\n",
    "np.std(arr_ex)"
   ]
  },
  {
   "cell_type": "code",
   "execution_count": 26,
   "metadata": {},
   "outputs": [
    {
     "data": {
      "text/plain": [
       "8.25"
      ]
     },
     "execution_count": 26,
     "metadata": {},
     "output_type": "execute_result"
    }
   ],
   "source": [
    "# Função VAR\n",
    "# ele realiza a variância de um array\n",
    "# ((num1 - MédiaX)² + (num2 - MediaX)² + ... + (numN - MédiaX)²) / N numeros\n",
    "arr_ex = np.array([1,2,3,4,5,6,7,8,9,10])\n",
    "np.var(arr_ex)"
   ]
  },
  {
   "cell_type": "code",
   "execution_count": 30,
   "metadata": {},
   "outputs": [
    {
     "name": "stdout",
     "output_type": "stream",
     "text": [
      "[[ 5 20]\n",
      " [15 46]]\n"
     ]
    }
   ],
   "source": [
    "# Função DOT\n",
    "# ele multiplica duas matrizes\n",
    "# o número de colunas das duas matrizes tem que ser iguais\n",
    "arr_ex1 = np.array([[1, 2], [3, 4]])\n",
    "arr_ex2 = np.array([[5, 6], [0, 7]])\n",
    "\n",
    "arr_result = np.dot(arr_ex1, arr_ex2)\n",
    "print(arr_result)"
   ]
  },
  {
   "cell_type": "code",
   "execution_count": 31,
   "metadata": {},
   "outputs": [
    {
     "data": {
      "text/plain": [
       "False"
      ]
     },
     "execution_count": 31,
     "metadata": {},
     "output_type": "execute_result"
    }
   ],
   "source": [
    "# Função ARRAY_EQUAL\n",
    "# ele retorna se os dois arrays são iguais ou não com valor booleano\n",
    "arr_ex1 = np.array([1, 2, 3, 4])\n",
    "arr_ex2 = np.array([4, 2, 2, 4])\n",
    "\n",
    "np.array_equal(arr_ex1,arr_ex2)"
   ]
  },
  {
   "cell_type": "code",
   "execution_count": 33,
   "metadata": {},
   "outputs": [
    {
     "name": "stdout",
     "output_type": "stream",
     "text": [
      "1\n",
      "10\n"
     ]
    }
   ],
   "source": [
    "# Função MAX e MIN\n",
    "# ele retorna o maior e o menor valor de um array respectivamente\n",
    "arr_ex = np.array([1,2,3,4,5,6,7,8,9,10])\n",
    "print(arr_ex.min())\n",
    "print(arr_ex.max())"
   ]
  },
  {
   "cell_type": "code",
   "execution_count": 37,
   "metadata": {},
   "outputs": [
    {
     "name": "stdout",
     "output_type": "stream",
     "text": [
      "[1. 2. 2. 2. 4. 4.]\n"
     ]
    }
   ],
   "source": [
    "# Função AROUND\n",
    "# ele vai arredondar todos os valores de uma array para o inteiro mais próximo\n",
    "# P.S: arredondando o 5 para baixo\n",
    "arr_ex = np.array([1.2, 1.5, 1.6, 2.5, 3.5, 4.5])\n",
    "print(np.around(arr_ex))"
   ]
  },
  {
   "cell_type": "code",
   "execution_count": 39,
   "metadata": {},
   "outputs": [
    {
     "name": "stdout",
     "output_type": "stream",
     "text": [
      "[1 2 3 4 5 6 7 8]\n"
     ]
    }
   ],
   "source": [
    "# Função FLATTEN\n",
    "# ele faz um achatamento de matriz, transformando em uma lista com uma unica dimensão\n",
    "arr_ex = np.array([[1, 2, 3, 4], [5, 6, 7, 8]])\n",
    "print(arr_ex.flatten())"
   ]
  },
  {
   "cell_type": "code",
   "execution_count": 41,
   "metadata": {},
   "outputs": [
    {
     "name": "stdout",
     "output_type": "stream",
     "text": [
      "[ 1  1  1  2  2  2  3  3  3  4  4  4  5  5  5  6  6  6  7  7  7  8  8  8\n",
      "  9  9  9 10 10 10]\n"
     ]
    }
   ],
   "source": [
    "# Função REPEAT\n",
    "# ele vai repetir cada caracter de um array o numero de vezes especificado no codigo\n",
    "# ex: np.repeat(arrayX, numero de vezes repetidas)\n",
    "arr_ex = np.array([1,2,3,4,5,6,7,8,9,10])\n",
    "print(np.repeat(arr_ex, 3))"
   ]
  },
  {
   "cell_type": "code",
   "execution_count": 43,
   "metadata": {},
   "outputs": [
    {
     "name": "stdout",
     "output_type": "stream",
     "text": [
      "[ 1  2  3  4  5  6  7  8  9 10  1  2  3  4  5  6  7  8  9 10  1  2  3  4\n",
      "  5  6  7  8  9 10]\n"
     ]
    }
   ],
   "source": [
    "# Função tile\n",
    "# ele vai repetir a lista completa do array o numero de vezes especificado no codigo\n",
    "# ex: np.tile(arrayX, numero de vezes repetidas)\n",
    "arr_ex = np.array([1,2,3,4,5,6,7,8,9,10])\n",
    "print(np.tile(arr_ex, 3))"
   ]
  },
  {
   "cell_type": "code",
   "execution_count": 54,
   "metadata": {},
   "outputs": [
    {
     "name": "stdout",
     "output_type": "stream",
     "text": [
      "int32 float64 float64\n"
     ]
    }
   ],
   "source": [
    "# Função DTYPE\n",
    "# essa função é mais um argumento mesmo antes de terminar o codigo de criação de um array\n",
    "x = np.array([1, 2])  # NumPy decide o tipo dos dado\n",
    "y = np.array([1.0, 2.0])  # NumPy decide o tipo dos dado\n",
    "z = np.array([1, 2], dtype = np.float64)  # Forçamos um tipo de dado em particular\n",
    "print(x.dtype, y.dtype, z.dtype)"
   ]
  },
  {
   "cell_type": "markdown",
   "metadata": {},
   "source": [
    "# Indexação de Matrizes em numpy\n",
    " Para checar um valor específico em um array com varias dimensões como é o caso dos arrays em 3D, é preciso saber como chamar eles com código"
   ]
  },
  {
   "cell_type": "code",
   "execution_count": 45,
   "metadata": {},
   "outputs": [
    {
     "name": "stdout",
     "output_type": "stream",
     "text": [
      "3\n",
      "(2, 3, 4)\n"
     ]
    }
   ],
   "source": [
    "arr_3d = dsa.array([\n",
    "    [\n",
    "        [1, 2, 3, 4],\n",
    "        [5, 6, 7, 8],\n",
    "        [9, 10, 11, 12]\n",
    "    ],\n",
    "    [\n",
    "        [13, 14, 15, 16],\n",
    "        [17, 18, 19, 20],\n",
    "        [21, 22, 23, 24]\n",
    "    ]\n",
    "])\n",
    "print(arr_3d.ndim) # Numero de dimenões (3)\n",
    "print(arr_3d.shape) # Tamanho da matriz"
   ]
  },
  {
   "cell_type": "code",
   "execution_count": 46,
   "metadata": {},
   "outputs": [
    {
     "data": {
      "text/plain": [
       "array([[ 1,  2,  3,  4],\n",
       "       [ 5,  6,  7,  8],\n",
       "       [ 9, 10, 11, 12]])"
      ]
     },
     "execution_count": 46,
     "metadata": {},
     "output_type": "execute_result"
    }
   ],
   "source": [
    "# tente interpretar o array acima, pois o mesmo tem 3 dimensões\n",
    "# primeiro de tudo antes de chamar um valor específico, é preciso entender como funciona o código de indexação\n",
    "# voce vai colocar o nome do array (arr_3d) e depois um colchete com a cordenada necessária\n",
    "arr_3d[0]\n",
    "# como é possivel ver, ele chamou o primeiro termo inteiro"
   ]
  },
  {
   "cell_type": "code",
   "execution_count": 51,
   "metadata": {},
   "outputs": [
    {
     "name": "stdout",
     "output_type": "stream",
     "text": [
      "[[ 1  2  3  4]\n",
      " [ 5  6  7  8]\n",
      " [ 9 10 11 12]]\n",
      "|========|\n",
      "[5 6 7 8]\n",
      "|========|\n",
      "5\n"
     ]
    }
   ],
   "source": [
    "# se aplicarmos mais especificiade no código é possível chamar valores especificos\n",
    "print(arr_3d[0])\n",
    "print(\"|========|\")\n",
    "print(arr_3d[0,1])\n",
    "print(\"|========|\")\n",
    "print(arr_3d[0,1,0])\n"
   ]
  }
 ],
 "metadata": {
  "kernelspec": {
   "display_name": "base",
   "language": "python",
   "name": "python3"
  },
  "language_info": {
   "codemirror_mode": {
    "name": "ipython",
    "version": 3
   },
   "file_extension": ".py",
   "mimetype": "text/x-python",
   "name": "python",
   "nbconvert_exporter": "python",
   "pygments_lexer": "ipython3",
   "version": "3.11.7"
  }
 },
 "nbformat": 4,
 "nbformat_minor": 2
}
