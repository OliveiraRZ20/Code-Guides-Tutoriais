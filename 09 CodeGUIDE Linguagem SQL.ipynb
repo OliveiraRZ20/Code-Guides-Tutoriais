{
 "cells": [
  {
   "cell_type": "code",
   "execution_count": 14,
   "id": "4361a453",
   "metadata": {},
   "outputs": [],
   "source": [
    "# primeiro de tudo, importar a ferramenta que atua com a linguagem SQL, o \"sqlite3\"\n",
    "import sqlite3\n",
    "\n",
    "# depois, podemos importar também o gerenciador de DataFrames, \"pandas\"\n",
    "import pandas as pd\n",
    "\n",
    "# importaremos tbm a bibiloteca os para funcionamento do gerenciamento de arquivos\n",
    "import os"
   ]
  },
  {
   "cell_type": "code",
   "execution_count": 15,
   "id": "ca9d72fd",
   "metadata": {},
   "outputs": [],
   "source": [
    "# Conectar no Banco de dados \"cap12_dsa.db\"\n",
    "meu_diretorio = os.path.abspath(\".\")\n",
    "path_SQL = os.path.join(meu_diretorio, f\"archives\\\\cap12_dsa.db\") # mude em caso de erro\n",
    "con = sqlite3.connect(path_SQL)\n",
    "\n",
    "# abrir um cursor para percorrer os dados no banco de dados\n",
    "cursor = con.cursor()"
   ]
  },
  {
   "cell_type": "code",
   "execution_count": 16,
   "id": "ec0e4b82",
   "metadata": {},
   "outputs": [
    {
     "name": "stdout",
     "output_type": "stream",
     "text": [
      "[('tb_vendas_dsa',)]\n"
     ]
    }
   ],
   "source": [
    "# Fazer um Query SQL para extrair os nomes das colunas no banco de dados\n",
    "\n",
    "# P.S: é praticamente uma variável com o comando que vai ser executado dentro da linguagem SQL\n",
    "\n",
    "sql_query = \"\"\"SELECT name FROM sqlite_master WHERE type = 'table';\"\"\"\n",
    "\n",
    "# Agora nós executamos a Query para realmente realizar a ação descrita no \"sql_query\"\n",
    "cursor.execute(sql_query)\n",
    "\n",
    "# Agora visualizamos o resultado \n",
    "print(cursor.fetchall())\n",
    "\n",
    "# isso aí é so pra saber qual o nome da tabela dentro do arquivo SQL"
   ]
  },
  {
   "cell_type": "code",
   "execution_count": 17,
   "id": "12e5bdac",
   "metadata": {
    "collapsed": true
   },
   "outputs": [
    {
     "data": {
      "text/html": [
       "<div>\n",
       "<style scoped>\n",
       "    .dataframe tbody tr th:only-of-type {\n",
       "        vertical-align: middle;\n",
       "    }\n",
       "\n",
       "    .dataframe tbody tr th {\n",
       "        vertical-align: top;\n",
       "    }\n",
       "\n",
       "    .dataframe thead th {\n",
       "        text-align: right;\n",
       "    }\n",
       "</style>\n",
       "<table border=\"1\" class=\"dataframe\">\n",
       "  <thead>\n",
       "    <tr style=\"text-align: right;\">\n",
       "      <th></th>\n",
       "      <th>0</th>\n",
       "      <th>1</th>\n",
       "      <th>2</th>\n",
       "      <th>3</th>\n",
       "      <th>4</th>\n",
       "      <th>5</th>\n",
       "    </tr>\n",
       "  </thead>\n",
       "  <tbody>\n",
       "    <tr>\n",
       "      <th>0</th>\n",
       "      <td>1</td>\n",
       "      <td>63</td>\n",
       "      <td>Produto_38</td>\n",
       "      <td>154.03</td>\n",
       "      <td>7</td>\n",
       "      <td>92.42</td>\n",
       "    </tr>\n",
       "    <tr>\n",
       "      <th>1</th>\n",
       "      <td>2</td>\n",
       "      <td>49</td>\n",
       "      <td>Produto_8</td>\n",
       "      <td>171.52</td>\n",
       "      <td>5</td>\n",
       "      <td>102.91</td>\n",
       "    </tr>\n",
       "    <tr>\n",
       "      <th>2</th>\n",
       "      <td>3</td>\n",
       "      <td>83</td>\n",
       "      <td>Produto_39</td>\n",
       "      <td>28.97</td>\n",
       "      <td>13</td>\n",
       "      <td>17.38</td>\n",
       "    </tr>\n",
       "    <tr>\n",
       "      <th>3</th>\n",
       "      <td>4</td>\n",
       "      <td>37</td>\n",
       "      <td>Produto_2</td>\n",
       "      <td>104.55</td>\n",
       "      <td>4</td>\n",
       "      <td>62.73</td>\n",
       "    </tr>\n",
       "    <tr>\n",
       "      <th>4</th>\n",
       "      <td>5</td>\n",
       "      <td>19</td>\n",
       "      <td>Produto_1</td>\n",
       "      <td>77.21</td>\n",
       "      <td>19</td>\n",
       "      <td>46.33</td>\n",
       "    </tr>\n",
       "  </tbody>\n",
       "</table>\n",
       "</div>"
      ],
      "text/plain": [
       "   0   1           2       3   4       5\n",
       "0  1  63  Produto_38  154.03   7   92.42\n",
       "1  2  49   Produto_8  171.52   5  102.91\n",
       "2  3  83  Produto_39   28.97  13   17.38\n",
       "3  4  37   Produto_2  104.55   4   62.73\n",
       "4  5  19   Produto_1   77.21  19   46.33"
      ]
     },
     "execution_count": 17,
     "metadata": {},
     "output_type": "execute_result"
    }
   ],
   "source": [
    "# Criar uma instrução SQL\n",
    "query1 = 'SELECT * FROM tb_vendas_dsa'\n",
    "\n",
    "# Executa a instrução\n",
    "cursor.execute(query1)\n",
    "\n",
    "# Cria a variável \"dados\"\n",
    "dados = cursor.fetchall()\n",
    "\n",
    "#Visualiza os dados\n",
    "df_dados = pd.DataFrame(dados)\n",
    "df_dados.head()"
   ]
  },
  {
   "cell_type": "code",
   "execution_count": 18,
   "id": "5e0686fa",
   "metadata": {},
   "outputs": [
    {
     "name": "stdout",
     "output_type": "stream",
     "text": [
      "['ID_Pedido', 'ID_Cliente', 'Nome_Produto', 'Valor_Unitario', 'Unidades_Vendidas', 'Custo']\n"
     ]
    }
   ],
   "source": [
    "# retorna somente os nomes das colunas\n",
    "cursor.description\n",
    "\n",
    "# Cria a lista \"nomes_colunas\"\n",
    "nomes_colunas = [description[0] for description in cursor.description]\n",
    "\n",
    "# Visualiza o resultado\n",
    "print(nomes_colunas)"
   ]
  },
  {
   "cell_type": "code",
   "execution_count": 19,
   "id": "3846e7d2",
   "metadata": {},
   "outputs": [
    {
     "data": {
      "text/plain": [
       "[(10.506,)]"
      ]
     },
     "execution_count": 19,
     "metadata": {},
     "output_type": "execute_result"
    }
   ],
   "source": [
    "# Criar instrução SQL\n",
    "# P.S: Essa intrução calcula a média (AVG = average) de unidades vendidas em todas as linhas\n",
    "query2 = \"SELECT AVG(Unidades_Vendidas) FROM tb_vendas_dsa\"\n",
    "\n",
    "# Executa a query\n",
    "cursor.execute(query2)\n",
    "\n",
    "# Visualiza o resultado\n",
    "cursor.fetchall()"
   ]
  },
  {
   "cell_type": "code",
   "execution_count": 20,
   "id": "1674fe9e",
   "metadata": {
    "collapsed": true
   },
   "outputs": [
    {
     "data": {
      "text/html": [
       "<div>\n",
       "<style scoped>\n",
       "    .dataframe tbody tr th:only-of-type {\n",
       "        vertical-align: middle;\n",
       "    }\n",
       "\n",
       "    .dataframe tbody tr th {\n",
       "        vertical-align: top;\n",
       "    }\n",
       "\n",
       "    .dataframe thead th {\n",
       "        text-align: right;\n",
       "    }\n",
       "</style>\n",
       "<table border=\"1\" class=\"dataframe\">\n",
       "  <thead>\n",
       "    <tr style=\"text-align: right;\">\n",
       "      <th></th>\n",
       "      <th>0</th>\n",
       "      <th>1</th>\n",
       "    </tr>\n",
       "  </thead>\n",
       "  <tbody>\n",
       "    <tr>\n",
       "      <th>0</th>\n",
       "      <td>Produto_1</td>\n",
       "      <td>12.000000</td>\n",
       "    </tr>\n",
       "    <tr>\n",
       "      <th>1</th>\n",
       "      <td>Produto_10</td>\n",
       "      <td>9.500000</td>\n",
       "    </tr>\n",
       "    <tr>\n",
       "      <th>2</th>\n",
       "      <td>Produto_11</td>\n",
       "      <td>14.181818</td>\n",
       "    </tr>\n",
       "    <tr>\n",
       "      <th>3</th>\n",
       "      <td>Produto_12</td>\n",
       "      <td>8.846154</td>\n",
       "    </tr>\n",
       "    <tr>\n",
       "      <th>4</th>\n",
       "      <td>Produto_13</td>\n",
       "      <td>6.000000</td>\n",
       "    </tr>\n",
       "  </tbody>\n",
       "</table>\n",
       "</div>"
      ],
      "text/plain": [
       "            0          1\n",
       "0   Produto_1  12.000000\n",
       "1  Produto_10   9.500000\n",
       "2  Produto_11  14.181818\n",
       "3  Produto_12   8.846154\n",
       "4  Produto_13   6.000000"
      ]
     },
     "execution_count": 20,
     "metadata": {},
     "output_type": "execute_result"
    }
   ],
   "source": [
    "# Criar instrução SQL\n",
    "# P.S: Essa instrução seleciona a coluna \"Nome_Produto\", calcula a média da coluna \"Unidades_Vendidas\" \n",
    "# e agrupa por \"Nome_Produto\"\n",
    "query3 = 'SELECT Nome_Produto, AVG(Unidades_Vendidas) FROM tb_vendas_dsa GROUP BY Nome_Produto'\n",
    "\n",
    "# Executa a query\n",
    "cursor.execute(query3)\n",
    "\n",
    "# Visualiza o resultado\n",
    "result = cursor.fetchall()\n",
    "df_result = pd.DataFrame(result)\n",
    "df_result.head()"
   ]
  },
  {
   "cell_type": "code",
   "execution_count": 21,
   "id": "4c58f30c",
   "metadata": {},
   "outputs": [
    {
     "data": {
      "text/plain": [
       "[('Produto_11', 1.0),\n",
       " ('Produto_15', 8.0),\n",
       " ('Produto_17', 14.0),\n",
       " ('Produto_20', 7.0),\n",
       " ('Produto_39', 16.0)]"
      ]
     },
     "execution_count": 21,
     "metadata": {},
     "output_type": "execute_result"
    }
   ],
   "source": [
    "# Criar instrução SQL\n",
    "# P.S: Essa instrução seleciona a coluna \"Nome_Produto\", Calcula a media da coluna \"Unidades_Vendidas\" \n",
    "# Somente para as linhas que tiverem a Coluna \"Valor_Unitario\" Maior (>) que 199\n",
    "query4 = \"\"\"SELECT Nome_Produto, AVG(Unidades_Vendidas)\n",
    "            FROM tb_vendas_dsa\n",
    "            WHERE Valor_Unitario > 199\n",
    "            GROUP BY Nome_Produto\"\"\"\n",
    "\n",
    "# Executa a query\n",
    "cursor.execute(query4)\n",
    "\n",
    "# Visualiza o resultado\n",
    "cursor.fetchall()"
   ]
  },
  {
   "cell_type": "code",
   "execution_count": 22,
   "id": "1e913eb4",
   "metadata": {},
   "outputs": [],
   "source": [
    "# lembrar de fechar o cursor e a conexão\n",
    "cursor.close()\n",
    "con.close()"
   ]
  },
  {
   "cell_type": "code",
   "execution_count": 23,
   "id": "312e30f5",
   "metadata": {},
   "outputs": [],
   "source": [
    "# Agora utilizaremos o pandas, então abriremos novamente a conexão e o cursor\n",
    "con = sqlite3.connect(path_SQL)\n",
    "cursor = con.cursor()"
   ]
  },
  {
   "cell_type": "code",
   "execution_count": 24,
   "id": "6cb9205a",
   "metadata": {
    "collapsed": true
   },
   "outputs": [
    {
     "data": {
      "text/html": [
       "<div>\n",
       "<style scoped>\n",
       "    .dataframe tbody tr th:only-of-type {\n",
       "        vertical-align: middle;\n",
       "    }\n",
       "\n",
       "    .dataframe tbody tr th {\n",
       "        vertical-align: top;\n",
       "    }\n",
       "\n",
       "    .dataframe thead th {\n",
       "        text-align: right;\n",
       "    }\n",
       "</style>\n",
       "<table border=\"1\" class=\"dataframe\">\n",
       "  <thead>\n",
       "    <tr style=\"text-align: right;\">\n",
       "      <th></th>\n",
       "      <th>0</th>\n",
       "      <th>1</th>\n",
       "      <th>2</th>\n",
       "      <th>3</th>\n",
       "      <th>4</th>\n",
       "      <th>5</th>\n",
       "    </tr>\n",
       "  </thead>\n",
       "  <tbody>\n",
       "    <tr>\n",
       "      <th>0</th>\n",
       "      <td>1</td>\n",
       "      <td>63</td>\n",
       "      <td>Produto_38</td>\n",
       "      <td>154.03</td>\n",
       "      <td>7</td>\n",
       "      <td>92.42</td>\n",
       "    </tr>\n",
       "    <tr>\n",
       "      <th>1</th>\n",
       "      <td>2</td>\n",
       "      <td>49</td>\n",
       "      <td>Produto_8</td>\n",
       "      <td>171.52</td>\n",
       "      <td>5</td>\n",
       "      <td>102.91</td>\n",
       "    </tr>\n",
       "    <tr>\n",
       "      <th>2</th>\n",
       "      <td>3</td>\n",
       "      <td>83</td>\n",
       "      <td>Produto_39</td>\n",
       "      <td>28.97</td>\n",
       "      <td>13</td>\n",
       "      <td>17.38</td>\n",
       "    </tr>\n",
       "    <tr>\n",
       "      <th>3</th>\n",
       "      <td>4</td>\n",
       "      <td>37</td>\n",
       "      <td>Produto_2</td>\n",
       "      <td>104.55</td>\n",
       "      <td>4</td>\n",
       "      <td>62.73</td>\n",
       "    </tr>\n",
       "    <tr>\n",
       "      <th>4</th>\n",
       "      <td>5</td>\n",
       "      <td>19</td>\n",
       "      <td>Produto_1</td>\n",
       "      <td>77.21</td>\n",
       "      <td>19</td>\n",
       "      <td>46.33</td>\n",
       "    </tr>\n",
       "  </tbody>\n",
       "</table>\n",
       "</div>"
      ],
      "text/plain": [
       "   0   1           2       3   4       5\n",
       "0  1  63  Produto_38  154.03   7   92.42\n",
       "1  2  49   Produto_8  171.52   5  102.91\n",
       "2  3  83  Produto_39   28.97  13   17.38\n",
       "3  4  37   Produto_2  104.55   4   62.73\n",
       "4  5  19   Produto_1   77.21  19   46.33"
      ]
     },
     "execution_count": 24,
     "metadata": {},
     "output_type": "execute_result"
    }
   ],
   "source": [
    "# agora queremos pegar todos os dados do banco de dados\n",
    "query = 'SELECT * FROM tb_vendas_dsa'\n",
    "cursor.execute(query)\n",
    "dados = cursor.fetchall()\n",
    "df_dados = pd.DataFrame(dados)\n",
    "df_dados.head()"
   ]
  },
  {
   "cell_type": "code",
   "execution_count": 25,
   "id": "6390d75b",
   "metadata": {},
   "outputs": [
    {
     "name": "stdout",
     "output_type": "stream",
     "text": [
      "(('ID_Pedido', None, None, None, None, None, None), ('ID_Cliente', None, None, None, None, None, None), ('Nome_Produto', None, None, None, None, None, None), ('Valor_Unitario', None, None, None, None, None, None), ('Unidades_Vendidas', None, None, None, None, None, None), ('Custo', None, None, None, None, None, None))\n"
     ]
    },
    {
     "data": {
      "text/html": [
       "<div>\n",
       "<style scoped>\n",
       "    .dataframe tbody tr th:only-of-type {\n",
       "        vertical-align: middle;\n",
       "    }\n",
       "\n",
       "    .dataframe tbody tr th {\n",
       "        vertical-align: top;\n",
       "    }\n",
       "\n",
       "    .dataframe thead th {\n",
       "        text-align: right;\n",
       "    }\n",
       "</style>\n",
       "<table border=\"1\" class=\"dataframe\">\n",
       "  <thead>\n",
       "    <tr style=\"text-align: right;\">\n",
       "      <th></th>\n",
       "      <th>ID_Pedido</th>\n",
       "      <th>ID_Cliente</th>\n",
       "      <th>Nome_Produto</th>\n",
       "      <th>Valor_Unitario</th>\n",
       "      <th>Unidades_Vendidas</th>\n",
       "      <th>Custo</th>\n",
       "    </tr>\n",
       "  </thead>\n",
       "  <tbody>\n",
       "    <tr>\n",
       "      <th>0</th>\n",
       "      <td>1</td>\n",
       "      <td>63</td>\n",
       "      <td>Produto_38</td>\n",
       "      <td>154.03</td>\n",
       "      <td>7</td>\n",
       "      <td>92.42</td>\n",
       "    </tr>\n",
       "    <tr>\n",
       "      <th>1</th>\n",
       "      <td>2</td>\n",
       "      <td>49</td>\n",
       "      <td>Produto_8</td>\n",
       "      <td>171.52</td>\n",
       "      <td>5</td>\n",
       "      <td>102.91</td>\n",
       "    </tr>\n",
       "    <tr>\n",
       "      <th>2</th>\n",
       "      <td>3</td>\n",
       "      <td>83</td>\n",
       "      <td>Produto_39</td>\n",
       "      <td>28.97</td>\n",
       "      <td>13</td>\n",
       "      <td>17.38</td>\n",
       "    </tr>\n",
       "    <tr>\n",
       "      <th>3</th>\n",
       "      <td>4</td>\n",
       "      <td>37</td>\n",
       "      <td>Produto_2</td>\n",
       "      <td>104.55</td>\n",
       "      <td>4</td>\n",
       "      <td>62.73</td>\n",
       "    </tr>\n",
       "    <tr>\n",
       "      <th>4</th>\n",
       "      <td>5</td>\n",
       "      <td>19</td>\n",
       "      <td>Produto_1</td>\n",
       "      <td>77.21</td>\n",
       "      <td>19</td>\n",
       "      <td>46.33</td>\n",
       "    </tr>\n",
       "  </tbody>\n",
       "</table>\n",
       "</div>"
      ],
      "text/plain": [
       "   ID_Pedido  ID_Cliente Nome_Produto  Valor_Unitario  Unidades_Vendidas  \\\n",
       "0          1          63   Produto_38          154.03                  7   \n",
       "1          2          49    Produto_8          171.52                  5   \n",
       "2          3          83   Produto_39           28.97                 13   \n",
       "3          4          37    Produto_2          104.55                  4   \n",
       "4          5          19    Produto_1           77.21                 19   \n",
       "\n",
       "    Custo  \n",
       "0   92.42  \n",
       "1  102.91  \n",
       "2   17.38  \n",
       "3   62.73  \n",
       "4   46.33  "
      ]
     },
     "execution_count": 25,
     "metadata": {},
     "output_type": "execute_result"
    }
   ],
   "source": [
    "# agora queremos carregar esses dados como um dataframe do pandas\n",
    "print(cursor.description)\n",
    "nome_colunas = [description[0] for description in cursor.description]\n",
    "df = pd.DataFrame(dados, columns = nome_colunas)\n",
    "\n",
    "df.head()"
   ]
  },
  {
   "cell_type": "code",
   "execution_count": 45,
   "id": "1849acbe",
   "metadata": {},
   "outputs": [],
   "source": [
    "# depois disso podemos fechar o cursor e a conexão\n",
    "cursor.close()\n",
    "con.close()"
   ]
  },
  {
   "cell_type": "code",
   "execution_count": 46,
   "id": "88a7cf6a",
   "metadata": {},
   "outputs": [
    {
     "data": {
      "text/plain": [
       "10.506"
      ]
     },
     "execution_count": 46,
     "metadata": {},
     "output_type": "execute_result"
    }
   ],
   "source": [
    "# media de unidades vendidas\n",
    "media_unidades_vendidas = df['Unidades_Vendidas'].mean()\n",
    "media_unidades_vendidas"
   ]
  },
  {
   "cell_type": "code",
   "execution_count": 26,
   "id": "d731067f",
   "metadata": {
    "collapsed": true
   },
   "outputs": [
    {
     "data": {
      "text/plain": [
       "Nome_Produto\n",
       "Produto_1     12.000000\n",
       "Produto_10     9.500000\n",
       "Produto_11    14.181818\n",
       "Produto_12     8.846154\n",
       "Produto_13     6.000000\n",
       "Name: Unidades_Vendidas, dtype: float64"
      ]
     },
     "execution_count": 26,
     "metadata": {},
     "output_type": "execute_result"
    }
   ],
   "source": [
    "# media de unidades vendidas por produto\n",
    "media_unidades_vendidas_por_produto = df.groupby('Nome_Produto')['Unidades_Vendidas'].mean()\n",
    "media_unidades_vendidas_por_produto.head()"
   ]
  }
 ],
 "metadata": {
  "kernelspec": {
   "display_name": "Python 3 (ipykernel)",
   "language": "python",
   "name": "python3"
  },
  "language_info": {
   "codemirror_mode": {
    "name": "ipython",
    "version": 3
   },
   "file_extension": ".py",
   "mimetype": "text/x-python",
   "name": "python",
   "nbconvert_exporter": "python",
   "pygments_lexer": "ipython3",
   "version": "3.11.7"
  },
  "widgets": {
   "application/vnd.jupyter.widget-state+json": {
    "state": {},
    "version_major": 2,
    "version_minor": 0
   }
  }
 },
 "nbformat": 4,
 "nbformat_minor": 5
}
