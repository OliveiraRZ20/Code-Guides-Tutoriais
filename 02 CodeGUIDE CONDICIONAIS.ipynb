{
 "cells": [
  {
   "cell_type": "markdown",
   "metadata": {},
   "source": [
    "# Condicionais IF, ELSE, ELIF\n",
    "esses são os maiorais quando se fala de algoritmos mais complexos em qualquer linguagem de programação\n",
    "\n",
    "If e Else querem dizer respectivamente: se e senão\n",
    "elif quer dizer Else if, normalmente utilizado pra validar casos especificos "
   ]
  },
  {
   "cell_type": "code",
   "execution_count": 1,
   "metadata": {},
   "outputs": [
    {
     "name": "stdout",
     "output_type": "stream",
     "text": [
      "A sentença é verdadeira!\n"
     ]
    }
   ],
   "source": [
    "# Condicional IF\n",
    "# ela executa uma ação se o resultado dela for true\n",
    "if 5 > 2:\n",
    "    print(\"A sentença é verdadeira!\")"
   ]
  },
  {
   "cell_type": "code",
   "execution_count": 2,
   "metadata": {},
   "outputs": [
    {
     "name": "stdout",
     "output_type": "stream",
     "text": [
      "A sentença é falsa!\n"
     ]
    }
   ],
   "source": [
    "# Condicional ELSE\n",
    "# ela executa uma ação caso o if não seja executado\n",
    "if 5 < 2:\n",
    "    print(\"A sentença é verdadeira!\")\n",
    "else:\n",
    "    print(\"A sentença é falsa!\")"
   ]
  },
  {
   "cell_type": "code",
   "execution_count": null,
   "metadata": {},
   "outputs": [],
   "source": [
    "# CONDICIONAL ELIF\n",
    "# ela adiciona mais uma condição de if porém considerando que a afirmação acima é falsa\n",
    "dia = 3 # teste colocar um numero qualquer e ver o resultado\n",
    "if dia == 1:\n",
    "    print(\"Hoje fará sol!\")\n",
    "elif dia == 2:\n",
    "    print(\"Hoje vai chover!\")\n",
    "elif dia == 3:\n",
    "    print(\"Hoje vai nevar!!!\")\n",
    "else:\n",
    "    print(\"Sem previsão do tempo para o dia selecionado\")"
   ]
  },
  {
   "cell_type": "markdown",
   "metadata": {},
   "source": [
    "# Condicionais Aninhados\n",
    "\n",
    "são aqueles que podemos utilizar para complementar as verificações padrão da condicional\n",
    "\n",
    "São eles:\n",
    "- And = a condição retornará True somente se AS DUAS CONDIÇÕES FOREM VERDADEIRAS\n",
    "- Or = a condição retornará True no caso de uma ou a outra e as duas condições forem verdadeiras\n",
    "- Not (ou !) = ele inverte a condição, então se vc é como se os valores se invertessem"
   ]
  },
  {
   "cell_type": "code",
   "execution_count": null,
   "metadata": {},
   "outputs": [],
   "source": [
    "# Operador AND\n",
    "nome  = \"Bob\" # experimente trocar\n",
    "idade = 18 # experimente trocar\n",
    "if idade > 17 and nome == \"Bob\":\n",
    "    print(\"Autorizado!\")\n",
    "else:\n",
    "    print(\"Acesso negado!\")"
   ]
  },
  {
   "cell_type": "code",
   "execution_count": null,
   "metadata": {},
   "outputs": [],
   "source": [
    "# Operador OR\n",
    "numero = 4 # experimente trocar\n",
    "if (numero > 5) or (numero % 2 == 0):\n",
    "    print(\"Isso está sendo impresso porque uma duas condições é verdadeira!\")\n",
    "else:\n",
    "    print(\"Não atendeu a nenhum dos dois requisitos\")"
   ]
  },
  {
   "cell_type": "code",
   "execution_count": 8,
   "metadata": {},
   "outputs": [
    {
     "name": "stdout",
     "output_type": "stream",
     "text": [
      "Acesso negado\n"
     ]
    }
   ],
   "source": [
    "# Operador NOT (ou !)\n",
    "nome = \"bob\" # experimente trocar para lucca\n",
    "idade = 19 # experimente trocar\n",
    "if not nome == \"lucca\" and idade != 18:\n",
    "    # isso quer dizer que só entrará nesse bloco caso o nome não seja igual a \"lucca\"\n",
    "    # e a idade seja diferente de 18\n",
    "    print(\"Bem vindo, aqui é proibido se chamar bob e ter 18 anos\")\n",
    "else:\n",
    "    print(\"Acesso negado\")"
   ]
  },
  {
   "cell_type": "markdown",
   "metadata": {},
   "source": [
    "# Placeholders (seguradores de lugar)\n",
    "\n",
    "Placeholder é aquilo que voce coloca quando ainda não tem o objeto pronto mas ja sabe aonde aquilo vai se encaixar, ou então no caso do python quando precisa se referenciar a uma variável dentro de uma string\n",
    "\n",
    "eles são identificados por um sinal de porcentagem (%) em uma string, mas caso vc realmente queira usar o sinal de porcentagem basta duplicar o sinal que ele entenderá que vc so quer usar o caracter mesmo\n",
    "\n",
    "caso vá reservar o lugar de um texto utilize %s, caso seja para um número utilize %d"
   ]
  },
  {
   "cell_type": "code",
   "execution_count": 10,
   "metadata": {},
   "outputs": [
    {
     "name": "stdout",
     "output_type": "stream",
     "text": [
      "Olá lucca que tem 19 anos de idade, seja bem vindo ao meu programa em python\n"
     ]
    }
   ],
   "source": [
    "nome = \"lucca\" # experimente trocar\n",
    "idade = 19 # experimente trocar\n",
    "print(\"Olá %s que tem %d anos de idade, bem vindo ao meu programa em python\" %(nome, idade))"
   ]
  },
  {
   "cell_type": "markdown",
   "metadata": {},
   "source": [
    "# Loop FOR\n",
    "\n",
    "loop for é um bloco de código que voce pode programar para se repetir quantas vezes vc quiser, normalmente utilizando um valor como variavel e uma espécie de limite para o loop saber como terminar.\n",
    "\n",
    "normamlente eles são utilizados de algumas maneiras, duas delas são:\n",
    "- deixar o loop em um range (faixa) fazendo assim o valor hipotético de i variar gradativamente de 0 até o numero esolhido\n",
    "- ou então pode se usar o valor hipotético de i para passar por todos os itens de uma lista, todos os caracteres de uma string, todos as chaves de um dicionário ou até coisas mais complexas para agregar o seu codigo\n"
   ]
  },
  {
   "cell_type": "code",
   "execution_count": 14,
   "metadata": {},
   "outputs": [
    {
     "name": "stdout",
     "output_type": "stream",
     "text": [
      "0\n",
      "1\n",
      "2\n",
      "3\n",
      "4\n"
     ]
    }
   ],
   "source": [
    "# Loop for em um range\n",
    "for i in range(5):\n",
    "    # o valor i nesse caso é so pra criar uma variável temporária\n",
    "    # esse codigo passar por todos os números (começando por 0 até chegar no ultimo)\n",
    "    # lembre-se que o valor descrito na condição é ABSOLUTO (ele não entra pra conta)\n",
    "    print(i)"
   ]
  },
  {
   "cell_type": "code",
   "execution_count": 12,
   "metadata": {},
   "outputs": [
    {
     "name": "stdout",
     "output_type": "stream",
     "text": [
      "2\n",
      "4\n",
      "6\n",
      "8\n",
      "10\n"
     ]
    }
   ],
   "source": [
    "# Loop for em uma lista\n",
    "numeros = [1,2,3,4,5,6,7,8,9,10]\n",
    "for i in numeros:\n",
    "    if i % 2 == 0: # condição para passar somente numeros pares\n",
    "        print(i)"
   ]
  },
  {
   "cell_type": "code",
   "execution_count": 15,
   "metadata": {},
   "outputs": [
    {
     "name": "stdout",
     "output_type": "stream",
     "text": [
      "L\n",
      "u\n",
      "c\n",
      "c\n",
      "a\n"
     ]
    }
   ],
   "source": [
    "# Loop for em uma string\n",
    "nome = \"Lucca\"\n",
    "for i in nome:\n",
    "    print(i)"
   ]
  },
  {
   "cell_type": "code",
   "execution_count": 18,
   "metadata": {},
   "outputs": [
    {
     "name": "stdout",
     "output_type": "stream",
     "text": [
      "k1\n",
      "k2\n",
      "k3\n"
     ]
    }
   ],
   "source": [
    "# Loop for em um dicionário\n",
    "dict_ex = {'k1':'Python','k2':'R','k3':'Scala'}\n",
    "for i in dict_ex:\n",
    "    print(i)"
   ]
  },
  {
   "cell_type": "markdown",
   "metadata": {},
   "source": [
    "# Função RANGE\n",
    "ela determina uma faixa de números composta por um início, um fim e a quantidade de números que são pulados entre um e outro"
   ]
  },
  {
   "cell_type": "code",
   "execution_count": 23,
   "metadata": {},
   "outputs": [
    {
     "name": "stdout",
     "output_type": "stream",
     "text": [
      "[0, 1, 2, 3, 4, 5]\n"
     ]
    }
   ],
   "source": [
    "# range só com final\n",
    "numeros = [i for i in range(6)]\n",
    "print(numeros)"
   ]
  },
  {
   "cell_type": "code",
   "execution_count": 24,
   "metadata": {},
   "outputs": [
    {
     "name": "stdout",
     "output_type": "stream",
     "text": [
      "[10, 11, 12, 13, 14, 15]\n"
     ]
    }
   ],
   "source": [
    "# range com inicio e fim\n",
    "numeros = [i for i in range(10,16)]\n",
    "print(numeros)"
   ]
  },
  {
   "cell_type": "code",
   "execution_count": 34,
   "metadata": {},
   "outputs": [
    {
     "name": "stdout",
     "output_type": "stream",
     "text": [
      "[0, 10, 20, 30, 40, 50]\n"
     ]
    }
   ],
   "source": [
    "# range com inicio, fim e numeros pra pular\n",
    "numeros = [i for i in range(0,51, 10)]\n",
    "print(numeros)"
   ]
  },
  {
   "cell_type": "markdown",
   "metadata": {},
   "source": [
    "# Condicionais Try, Except e Finally\n",
    "\n",
    "essas ai são menos utilizadas por iniciantes mas tem o seu valor, normalmente são utilizadas pra fazer debug(verificação) de um app pois o except pode receber nomes de erros para melhor identificação:\n",
    "\n",
    "por fim o finally sempre é executado, independente do resultado do código\n",
    "\n",
    "Porém primeiramente é importante entender os erros do python e como o terminal pode te ajudar a entender o que está errado no seu código"
   ]
  },
  {
   "cell_type": "code",
   "execution_count": 44,
   "metadata": {},
   "outputs": [
    {
     "ename": "TypeError",
     "evalue": "unsupported operand type(s) for +: 'int' and 'str'",
     "output_type": "error",
     "traceback": [
      "\u001b[1;31m---------------------------------------------------------------------------\u001b[0m",
      "\u001b[1;31mTypeError\u001b[0m                                 Traceback (most recent call last)",
      "Cell \u001b[1;32mIn[44], line 1\u001b[0m\n\u001b[1;32m----> 1\u001b[0m \u001b[38;5;241m8\u001b[39m \u001b[38;5;241m+\u001b[39m \u001b[38;5;124m\"\u001b[39m\u001b[38;5;124ms\u001b[39m\u001b[38;5;124m\"\u001b[39m\n",
      "\u001b[1;31mTypeError\u001b[0m: unsupported operand type(s) for +: 'int' and 'str'"
     ]
    }
   ],
   "source": [
    "8 + \"s\"\n",
    "# se voce notar logo abaixo está escrito \"TypeError\"\n",
    "# esse erro se traduz para: operação não suportada: int (numero inteiro) e str (texto)"
   ]
  },
  {
   "cell_type": "code",
   "execution_count": 46,
   "metadata": {},
   "outputs": [
    {
     "name": "stdout",
     "output_type": "stream",
     "text": [
      "Operação não permitida\n"
     ]
    }
   ],
   "source": [
    "# Try em uma situação exemplo\n",
    "try:\n",
    "    8 + \"s\" # experimente trocar\n",
    "except TypeError:\n",
    "    print(\"Operação não permitida\")\n",
    "else:\n",
    "    print(\"Tudo certo por aqui!\")"
   ]
  },
  {
   "cell_type": "code",
   "execution_count": 47,
   "metadata": {},
   "outputs": [
    {
     "name": "stdout",
     "output_type": "stream",
     "text": [
      "Operação não permitida\n",
      "Se deu certo ou não eu n sei, mas essa mensagem aparece de qualquer maneira\n"
     ]
    }
   ],
   "source": [
    "# finally em uma situação exemplo\n",
    "try:\n",
    "    8 + \"s\" # experimente trocar\n",
    "except:\n",
    "    print(\"Operação não permitida\")\n",
    "else:\n",
    "    print(\"Tudo certo por aqui\")\n",
    "finally:\n",
    "    print(\"Se deu certo ou não eu n sei, mas essa mensagem aparece de qualquer maneira\")"
   ]
  }
 ],
 "metadata": {
  "kernelspec": {
   "display_name": "base",
   "language": "python",
   "name": "python3"
  },
  "language_info": {
   "codemirror_mode": {
    "name": "ipython",
    "version": 3
   },
   "file_extension": ".py",
   "mimetype": "text/x-python",
   "name": "python",
   "nbconvert_exporter": "python",
   "pygments_lexer": "ipython3",
   "version": "3.11.7"
  }
 },
 "nbformat": 4,
 "nbformat_minor": 2
}
