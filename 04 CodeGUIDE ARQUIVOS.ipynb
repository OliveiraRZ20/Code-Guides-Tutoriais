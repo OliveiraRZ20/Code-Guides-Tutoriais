{
 "cells": [
  {
   "cell_type": "markdown",
   "metadata": {},
   "source": [
    "# Funcionalidades de ARQUIVOS com python"
   ]
  },
  {
   "cell_type": "code",
   "execution_count": 2,
   "metadata": {},
   "outputs": [
    {
     "name": "stdout",
     "output_type": "stream",
     "text": [
      "c:\\LUCCA\\Codigos VSCode\\Vscode\\Programacao-lucca-oliveira\\Python\\Projects\\Python-Code-Guides-ALLTIME\\arquivos ipynb\\archives\\texto.txt\n"
     ]
    }
   ],
   "source": [
    "import os\n",
    "meu_diretorio = os.path.abspath(\".\")\n",
    "path_texto = os.path.join(meu_diretorio, f\"archives\\\\texto.txt\") # mude em caso de erro\n",
    "print(path_texto)"
   ]
  },
  {
   "cell_type": "code",
   "execution_count": 3,
   "metadata": {},
   "outputs": [],
   "source": [
    "# para abrir um arquivo primeiro é necessário obter o caminho do mesmo\n",
    "# após obter o caminho dele é necessário o seguinte comando:\n",
    "# nome_variavel = open(PATH, \"modo-de-abertura\")\n",
    "# esse modo de abertura pode variar entre r (READ), w (WRITE), a (APPEND)\n",
    "# simplificando, r = somente leitura, w = sobrescrever arquivo, a = adicionar conteúdo\n",
    "arq1 = open(path_texto, \"a\")\n",
    "arq1.close() # SEMPRE LEMBRE DE FECHAR O ARQUIVO QUANDO ACABAR DE EDITAR"
   ]
  },
  {
   "cell_type": "code",
   "execution_count": 6,
   "metadata": {},
   "outputs": [
    {
     "data": {
      "text/plain": [
       "'Olá, eu sou Lucca oliveira e estou produzindo varios arquivos de Jupyter Notebook para ensinar python para algum curioso que entrar no meu GitHub'"
      ]
     },
     "execution_count": 6,
     "metadata": {},
     "output_type": "execute_result"
    }
   ],
   "source": [
    "# Função READ\n",
    "# ele retorna o conteudo do arquivo\n",
    "arq1 = open(path_texto, \"r\") # abertura em modo de leitura\n",
    "text = arq1.read()\n",
    "arq1.close()\n",
    "\n",
    "text"
   ]
  },
  {
   "cell_type": "code",
   "execution_count": 26,
   "metadata": {},
   "outputs": [],
   "source": [
    "# reinicialização do arquivo UTILIZE PARA LIMPAR O ARQUIVO\n",
    "arq1 = open(path_texto, \"w\") # abertura no modo de escrever\n",
    "arq1.write(\"Olá, eu sou Lucca oliveira e estou produzindo varios arquivos de Jupyter Notebook para ensinar python para algum curioso que entrar no meu GitHub\")\n",
    "arq1.close()"
   ]
  },
  {
   "cell_type": "code",
   "execution_count": 27,
   "metadata": {},
   "outputs": [
    {
     "name": "stdout",
     "output_type": "stream",
     "text": [
      "Olá, eu sou Lucca oliveira e estou produzindo varios arquivos de Jupyter Notebook para ensinar python para algum curioso que entrar no meu GitHub\n",
      "Isso aqui foi adicionado usando python eu adoro programar\n",
      "Python aprendeu a escrever, olha só!!!\n"
     ]
    }
   ],
   "source": [
    "# Função WRITE\n",
    "# ele escreve no arquivo\n",
    "\n",
    "arq1 = open(path_texto, \"a\") # abertura no modo de adição de conteúdo\n",
    "arq1.write(\"\\nIsso aqui foi adicionado usando python eu adoro programar\")\n",
    "arq1.write(\"\\nPython aprendeu a escrever, olha só!!!\")\n",
    "arq1.close()\n",
    "\n",
    "arq1 = open(path_texto, \"r\") # abertura em modo de leitura\n",
    "text = arq1.read()\n",
    "arq1.close()\n",
    "\n",
    "print(text)"
   ]
  },
  {
   "cell_type": "code",
   "execution_count": 28,
   "metadata": {},
   "outputs": [
    {
     "name": "stdout",
     "output_type": "stream",
     "text": [
      "Olá, eu sou Lucca oliveira e estou produzindo varios arquivos de Jupyter Notebook para ensinar python para algum curioso que entrar no meu GitHub\n",
      "Isso aqui foi adicionado usando python eu adoro programar\n",
      "Python aprendeu a escrever, olha só!!!\n"
     ]
    }
   ],
   "source": [
    "# Dica final, com o condicional WITH o arquivo pode ser aberto porém fechado\n",
    "# automaticamente ao final do loop with\n",
    "\n",
    "with open(path_texto, \"r\") as arq:\n",
    "    text = arq.read()\n",
    "\n",
    "print(text)"
   ]
  }
 ],
 "metadata": {
  "kernelspec": {
   "display_name": "base",
   "language": "python",
   "name": "python3"
  },
  "language_info": {
   "codemirror_mode": {
    "name": "ipython",
    "version": 3
   },
   "file_extension": ".py",
   "mimetype": "text/x-python",
   "name": "python",
   "nbconvert_exporter": "python",
   "pygments_lexer": "ipython3",
   "version": "3.11.7"
  }
 },
 "nbformat": 4,
 "nbformat_minor": 2
}
