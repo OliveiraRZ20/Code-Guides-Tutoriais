{
 "cells": [
  {
   "cell_type": "markdown",
   "metadata": {},
   "source": [
    " Este é o começo de tudo então preste bastante atenção neste notebook pois podera decidir\n",
    " se vc vai entender ou não essa linguagem de programação"
   ]
  },
  {
   "cell_type": "markdown",
   "metadata": {},
   "source": [
    "# Função PRINT"
   ]
  },
  {
   "cell_type": "code",
   "execution_count": 22,
   "metadata": {},
   "outputs": [
    {
     "name": "stdout",
     "output_type": "stream",
     "text": [
      "Hello World!!!\n",
      "5\n",
      "4.5\n"
     ]
    }
   ],
   "source": [
    "# ela vai imprimir tudo o que estiver dentro dos parentesis la no terminal\n",
    "print(\"Hello World!!!\")\n",
    "print(5)\n",
    "print(4.5)"
   ]
  },
  {
   "cell_type": "markdown",
   "metadata": {},
   "source": [
    "# Função TYPE\n",
    "quando se está utilizando codigos mais simples ela vai retornar o que é aquele termo\n",
    "com algumas identificações como:\n",
    "- int\n",
    "- float\n",
    "- str\n",
    "- list\n",
    "- dict\n",
    "- class\n",
    "\n",
    "ao longo do tempo voce aprende o que é o que"
   ]
  },
  {
   "cell_type": "code",
   "execution_count": 28,
   "metadata": {},
   "outputs": [
    {
     "data": {
      "text/plain": [
       "str"
      ]
     },
     "execution_count": 28,
     "metadata": {},
     "output_type": "execute_result"
    }
   ],
   "source": [
    "type(\"Ola, isso é uma string que corresponde a texto\")"
   ]
  },
  {
   "cell_type": "code",
   "execution_count": 29,
   "metadata": {},
   "outputs": [
    {
     "data": {
      "text/plain": [
       "int"
      ]
     },
     "execution_count": 29,
     "metadata": {},
     "output_type": "execute_result"
    }
   ],
   "source": [
    "type(50)"
   ]
  },
  {
   "cell_type": "code",
   "execution_count": 30,
   "metadata": {},
   "outputs": [
    {
     "data": {
      "text/plain": [
       "float"
      ]
     },
     "execution_count": 30,
     "metadata": {},
     "output_type": "execute_result"
    }
   ],
   "source": [
    "type(5.0)"
   ]
  },
  {
   "cell_type": "code",
   "execution_count": 31,
   "metadata": {},
   "outputs": [
    {
     "data": {
      "text/plain": [
       "list"
      ]
     },
     "execution_count": 31,
     "metadata": {},
     "output_type": "execute_result"
    }
   ],
   "source": [
    "x = [0,1,2,3,4,5]\n",
    "type(x)"
   ]
  },
  {
   "cell_type": "code",
   "execution_count": 32,
   "metadata": {},
   "outputs": [
    {
     "data": {
      "text/plain": [
       "dict"
      ]
     },
     "execution_count": 32,
     "metadata": {},
     "output_type": "execute_result"
    }
   ],
   "source": [
    "x = {0:'zero',1:'um',2:\"oie\"}\n",
    "type(x)"
   ]
  },
  {
   "cell_type": "markdown",
   "metadata": {},
   "source": [
    "# Operação com números"
   ]
  },
  {
   "cell_type": "code",
   "execution_count": 1,
   "metadata": {},
   "outputs": [
    {
     "data": {
      "text/plain": [
       "8"
      ]
     },
     "execution_count": 1,
     "metadata": {},
     "output_type": "execute_result"
    }
   ],
   "source": [
    "# Soma\n",
    "4 + 4"
   ]
  },
  {
   "cell_type": "code",
   "execution_count": 2,
   "metadata": {},
   "outputs": [
    {
     "data": {
      "text/plain": [
       "1"
      ]
     },
     "execution_count": 2,
     "metadata": {},
     "output_type": "execute_result"
    }
   ],
   "source": [
    "# Subtração\n",
    "4 - 3"
   ]
  },
  {
   "cell_type": "code",
   "execution_count": 3,
   "metadata": {},
   "outputs": [
    {
     "data": {
      "text/plain": [
       "9"
      ]
     },
     "execution_count": 3,
     "metadata": {},
     "output_type": "execute_result"
    }
   ],
   "source": [
    "# Multiplicação\n",
    "3 * 3"
   ]
  },
  {
   "cell_type": "code",
   "execution_count": 13,
   "metadata": {},
   "outputs": [
    {
     "name": "stdout",
     "output_type": "stream",
     "text": [
      "1.5\n"
     ]
    },
    {
     "data": {
      "text/plain": [
       "float"
      ]
     },
     "execution_count": 13,
     "metadata": {},
     "output_type": "execute_result"
    }
   ],
   "source": [
    "# Divisão (float) = numero decimal\n",
    "print(3 / 2)\n",
    "type(3 / 2)"
   ]
  },
  {
   "cell_type": "code",
   "execution_count": 12,
   "metadata": {},
   "outputs": [
    {
     "name": "stdout",
     "output_type": "stream",
     "text": [
      "1\n"
     ]
    },
    {
     "data": {
      "text/plain": [
       "int"
      ]
     },
     "execution_count": 12,
     "metadata": {},
     "output_type": "execute_result"
    }
   ],
   "source": [
    "# Divisão (int) = numero inteiro\n",
    "print(3 // 2)\n",
    "type(3 // 2)"
   ]
  },
  {
   "cell_type": "code",
   "execution_count": 6,
   "metadata": {},
   "outputs": [
    {
     "data": {
      "text/plain": [
       "16"
      ]
     },
     "execution_count": 6,
     "metadata": {},
     "output_type": "execute_result"
    }
   ],
   "source": [
    "# Potência\n",
    "4**2"
   ]
  },
  {
   "cell_type": "code",
   "execution_count": 7,
   "metadata": {},
   "outputs": [
    {
     "data": {
      "text/plain": [
       "1"
      ]
     },
     "execution_count": 7,
     "metadata": {},
     "output_type": "execute_result"
    }
   ],
   "source": [
    "# Módulo (Resto da divisão)\n",
    "10 % 3"
   ]
  },
  {
   "cell_type": "markdown",
   "metadata": {},
   "source": [
    "# Operações com tipos diferentes de números"
   ]
  },
  {
   "cell_type": "code",
   "execution_count": 11,
   "metadata": {},
   "outputs": [
    {
     "name": "stdout",
     "output_type": "stream",
     "text": [
      "9.5\n"
     ]
    },
    {
     "data": {
      "text/plain": [
       "float"
      ]
     },
     "execution_count": 11,
     "metadata": {},
     "output_type": "execute_result"
    }
   ],
   "source": [
    " # float + float = FLOAT\n",
    "print(3.1 + 6.4)\n",
    "type(3.1 + 6.4)"
   ]
  },
  {
   "cell_type": "code",
   "execution_count": 14,
   "metadata": {},
   "outputs": [
    {
     "name": "stdout",
     "output_type": "stream",
     "text": [
      "8.0\n"
     ]
    },
    {
     "data": {
      "text/plain": [
       "float"
      ]
     },
     "execution_count": 14,
     "metadata": {},
     "output_type": "execute_result"
    }
   ],
   "source": [
    "# int + float = FLOAT\n",
    "print(4 + 4.0)\n",
    "type(4 + 4.0)"
   ]
  },
  {
   "cell_type": "code",
   "execution_count": 15,
   "metadata": {},
   "outputs": [
    {
     "name": "stdout",
     "output_type": "stream",
     "text": [
      "8\n"
     ]
    },
    {
     "data": {
      "text/plain": [
       "int"
      ]
     },
     "execution_count": 15,
     "metadata": {},
     "output_type": "execute_result"
    }
   ],
   "source": [
    "# int + int = INT\n",
    "print(4 + 4)\n",
    "type(4 + 4)"
   ]
  },
  {
   "cell_type": "markdown",
   "metadata": {},
   "source": [
    "# Conversão e identificação de números"
   ]
  },
  {
   "cell_type": "code",
   "execution_count": 19,
   "metadata": {},
   "outputs": [
    {
     "data": {
      "text/plain": [
       "'0x18a'"
      ]
     },
     "execution_count": 19,
     "metadata": {},
     "output_type": "execute_result"
    }
   ],
   "source": [
    "# Hexadecimal\n",
    "hex(394)"
   ]
  },
  {
   "cell_type": "code",
   "execution_count": 17,
   "metadata": {},
   "outputs": [
    {
     "data": {
      "text/plain": [
       "'0b100011110'"
      ]
     },
     "execution_count": 17,
     "metadata": {},
     "output_type": "execute_result"
    }
   ],
   "source": [
    "# Binário\n",
    "bin(286)"
   ]
  },
  {
   "cell_type": "markdown",
   "metadata": {},
   "source": [
    "# Funções da linguagem"
   ]
  },
  {
   "cell_type": "code",
   "execution_count": 33,
   "metadata": {},
   "outputs": [
    {
     "data": {
      "text/plain": [
       "8"
      ]
     },
     "execution_count": 33,
     "metadata": {},
     "output_type": "execute_result"
    }
   ],
   "source": [
    "# Função ABS\n",
    "# Valor absoluto (módulo) [abs]\n",
    "# ex: abs(numeroex)\n",
    "abs(-8)"
   ]
  },
  {
   "cell_type": "code",
   "execution_count": 34,
   "metadata": {},
   "outputs": [
    {
     "data": {
      "text/plain": [
       "3.14"
      ]
     },
     "execution_count": 34,
     "metadata": {},
     "output_type": "execute_result"
    }
   ],
   "source": [
    "# Função ROUND\n",
    "# Valor com x casas decimais [round]\n",
    "# ex: round(numeroex, casasdecimais)\n",
    "x = 2\n",
    "round(3.14151922, x)"
   ]
  },
  {
   "cell_type": "code",
   "execution_count": null,
   "metadata": {},
   "outputs": [],
   "source": [
    "# Função POW\n",
    "# Potência, número elevado a x potência [pow]\n",
    "# ex: pow(numeroex, elevacao)\n",
    "x = 2\n",
    "pow(4, x)"
   ]
  },
  {
   "cell_type": "code",
   "execution_count": 40,
   "metadata": {},
   "outputs": [
    {
     "data": {
      "text/plain": [
       "'TESTE DE STRING'"
      ]
     },
     "execution_count": 40,
     "metadata": {},
     "output_type": "execute_result"
    }
   ],
   "source": [
    "# Função UPPER\n",
    "# Coloca tudo maiusculo [.upper()]\n",
    "ex = \"Teste de string\"\n",
    "ex.upper()"
   ]
  },
  {
   "cell_type": "code",
   "execution_count": null,
   "metadata": {},
   "outputs": [],
   "source": [
    "# Função LOWER\n",
    "# Colocar tudo minusculo [.lower()]\n",
    "ex = \"Teste de string\"\n",
    "ex.lower()"
   ]
  },
  {
   "cell_type": "code",
   "execution_count": 43,
   "metadata": {},
   "outputs": [
    {
     "name": "stdout",
     "output_type": "stream",
     "text": [
      "['Teste', 'de', 'string']\n"
     ]
    },
    {
     "data": {
      "text/plain": [
       "list"
      ]
     },
     "execution_count": 43,
     "metadata": {},
     "output_type": "execute_result"
    }
   ],
   "source": [
    "# Função SPLIT\n",
    "# Dividir string por espaços em branco [.split()]\n",
    "# Esse comando cria uma lista com todos os itens separados\n",
    "ex = \"Teste de string\"\n",
    "lista_ex = ex.split()\n",
    "print(lista_ex)\n",
    "type(lista_ex)"
   ]
  },
  {
   "cell_type": "code",
   "execution_count": 44,
   "metadata": {},
   "outputs": [
    {
     "name": "stdout",
     "output_type": "stream",
     "text": [
      "['Lutador 1 ', ' Lutador 2']\n"
     ]
    }
   ],
   "source": [
    "# este Função pode ser muito útil se for bem utilizada, pois ela pode receber um argumento\n",
    "# que equivale ao caracter selecionado pra dividir a string alvo\n",
    "ex = \"Lutador 1 x Lutador 2\"\n",
    "lista_ex = ex.split(\"x\")\n",
    "print(lista_ex)"
   ]
  },
  {
   "cell_type": "code",
   "execution_count": 45,
   "metadata": {},
   "outputs": [
    {
     "data": {
      "text/plain": [
       "'Comecei um texto mas esqueci de colocar letra maiuscula no inico de frase'"
      ]
     },
     "execution_count": 45,
     "metadata": {},
     "output_type": "execute_result"
    }
   ],
   "source": [
    "# Função CAPITALIZE\n",
    "# Colocar letra maiuscula no inicio da string [.captalize()]\n",
    "ex = \"comecei um texto mas esqueci de colocar letra maiuscula no inico de frase\"\n",
    "ex.capitalize()"
   ]
  },
  {
   "cell_type": "code",
   "execution_count": 59,
   "metadata": {},
   "outputs": [
    {
     "name": "stdout",
     "output_type": "stream",
     "text": [
      "9\n",
      "1\n"
     ]
    }
   ],
   "source": [
    "# Função COUNT\n",
    "# Contar quantas vezes aparece o caracter x na string [.count(\"x\")]\n",
    "ex = \"eu adoro comer banana, mas queria saber quantos A's tem nessa string\"\n",
    "print(ex.count(\"a\"))\n",
    "print(ex.count(\"A\"))\n",
    "# P.S = lembre se que o python interpreta \"a\" e \"A\" de maneira completamente diferente,\n",
    "# isso é caracteristica de uma linguagem case sensitive então tome cuidado!!!"
   ]
  },
  {
   "cell_type": "code",
   "execution_count": 57,
   "metadata": {},
   "outputs": [
    {
     "name": "stdout",
     "output_type": "stream",
     "text": [
      "False\n",
      "True\n"
     ]
    }
   ],
   "source": [
    "# Função ISALNUM\n",
    "# Checar se o conteúdo da string é somente numero [.isdigit()]\n",
    "# somente número siginifica LITERALMENTE SO NUMERO, ESPACOS tambem contam como caracter\n",
    "ex = \"teste de string\"\n",
    "print(ex.isdigit())\n",
    "ex = \"12345\"\n",
    "print(ex.isdigit())"
   ]
  },
  {
   "cell_type": "code",
   "execution_count": 64,
   "metadata": {},
   "outputs": [
    {
     "name": "stdout",
     "output_type": "stream",
     "text": [
      "True\n",
      "False\n"
     ]
    }
   ],
   "source": [
    "# Função ISLOWER\n",
    "# Checar se o conteudo da string esta todo em minúsculo [.islower()]\n",
    "ex = \"teste de string\"\n",
    "print(ex.islower())\n",
    "ex = \"teste de string, olha só uma letra maiúscula A\"\n",
    "print(ex.islower())"
   ]
  },
  {
   "cell_type": "code",
   "execution_count": 67,
   "metadata": {},
   "outputs": [
    {
     "name": "stdout",
     "output_type": "stream",
     "text": [
      "False\n",
      "True\n"
     ]
    }
   ],
   "source": [
    "# Função ISSPACE\n",
    "# Checar se o conteudo da string é somente espaco em branco [.isspace()]\n",
    "ex = \"Teste de string\"\n",
    "print(ex.isspace())\n",
    "ex = \" \"\n",
    "print(ex.isspace())"
   ]
  },
  {
   "cell_type": "code",
   "execution_count": 70,
   "metadata": {},
   "outputs": [
    {
     "name": "stdout",
     "output_type": "stream",
     "text": [
      "False\n",
      "True\n"
     ]
    }
   ],
   "source": [
    "# Função ENDSWITH\n",
    "# Checar se a string acaba com o caracter x [.endswith(\"x\")]\n",
    "ex = \"Teste de string\"\n",
    "print(ex.endswith(\"s\"))\n",
    "ex = \"Teste de string so que terminando com s\"\n",
    "print(ex.endswith(\"s\"))"
   ]
  },
  {
   "cell_type": "markdown",
   "metadata": {},
   "source": [
    "# Indexação\n",
    "Para entender isso temos que saber que uma string é uma composição de varios caracteres, assim como um número grande é composto de varios pequenos, assim como uma frase é composta de palavras que são compostas por letras\n",
    "\n",
    "então entenda que quando damos um valor qualquer a uma variável, podemos usar indexação pra procurar a informação desejada somente.\n",
    "\n",
    "OBS: SEMPRE LEMBRE QUE A INDEXAÇÃO EM PYTHON COMEÇA EM 0\n",
    "\n",
    "QUANDO PRECISAR PEGAR O PRIMEIRO VALOR DE QUALQUER COISA UTILIZE 0\n",
    "\n",
    "Exemplo de utilização\n",
    "\n",
    "ex = \"texto exemplo\"\n",
    "\n",
    "ex [x : y]\n",
    "\n",
    "sendo x o valor inicial (escolha um ponto de partida pra mostrar da string)\n",
    "\n",
    "e o valor y o valor final (escolha um ponto final pra mostrar da string)"
   ]
  },
  {
   "cell_type": "code",
   "execution_count": 36,
   "metadata": {},
   "outputs": [
    {
     "data": {
      "text/plain": [
       "'L'"
      ]
     },
     "execution_count": 36,
     "metadata": {},
     "output_type": "execute_result"
    }
   ],
   "source": [
    "# o numero 0 retorna o PRIMEIRO valor da string\n",
    "ex = \"LUCCA\"\n",
    "ex[0]"
   ]
  },
  {
   "cell_type": "code",
   "execution_count": 37,
   "metadata": {},
   "outputs": [
    {
     "data": {
      "text/plain": [
       "'A'"
      ]
     },
     "execution_count": 37,
     "metadata": {},
     "output_type": "execute_result"
    }
   ],
   "source": [
    "# o numero -1 retorna o ULTIMO valor da string\n",
    "ex = \"LUCCA\"\n",
    "ex[-1]"
   ]
  },
  {
   "cell_type": "code",
   "execution_count": 38,
   "metadata": {},
   "outputs": [
    {
     "data": {
      "text/plain": [
       "'UCCA'"
      ]
     },
     "execution_count": 38,
     "metadata": {},
     "output_type": "execute_result"
    }
   ],
   "source": [
    "# a utilização do [1:] faz ele mostrar somente do SEGUNDO caracter pra frente até o final\n",
    "# removendo assim o PRIMEIRO caracter da string\n",
    "ex = \"LUCCA\"\n",
    "ex[1:]"
   ]
  },
  {
   "cell_type": "code",
   "execution_count": 39,
   "metadata": {},
   "outputs": [
    {
     "data": {
      "text/plain": [
       "'L'"
      ]
     },
     "execution_count": 39,
     "metadata": {},
     "output_type": "execute_result"
    }
   ],
   "source": [
    "# a utilização do [:1] faz ele mostrar a string desde o início até o primeiro caracter\n",
    "# pois o numero a direita é ABSOLUTO, logo ele não entra na conta\n",
    "ex = \"LUCCA\"\n",
    "ex[:1]"
   ]
  },
  {
   "cell_type": "code",
   "execution_count": null,
   "metadata": {},
   "outputs": [],
   "source": [
    "# a utilização do [::-1] faz ele mostrar a string ao contrário\n",
    "ex = \"LUCCA\"\n",
    "ex[::-1]"
   ]
  },
  {
   "cell_type": "markdown",
   "metadata": {},
   "source": [
    "# Valores Booleanos\n",
    "\n",
    "esses são aqueles famosos **True** e **False** que são utilizados em grande quantidade nas linguagens de programação, eles vão ser uteis normalmente pra confirmar uma condição sendo ela de comparação ou de diferença, gerando um resultado True (verdadeiro) ou False (falso)"
   ]
  },
  {
   "cell_type": "code",
   "execution_count": 72,
   "metadata": {},
   "outputs": [
    {
     "name": "stdout",
     "output_type": "stream",
     "text": [
      "False\n",
      "True\n"
     ]
    }
   ],
   "source": [
    "# Comparação de strings\n",
    "# como o sinal de igual (=) é utilizado pra atribuição de valor é utilizado o\n",
    "# sinal de igual duas vezes (==) para se comparar duas estruturas\n",
    "x = \"LUCCA\"\n",
    "y = \"BRUNA\"\n",
    "print(x == y)\n",
    "x = \"Teste\"\n",
    "y = \"Teste\"\n",
    "print(x == y)"
   ]
  },
  {
   "cell_type": "code",
   "execution_count": 39,
   "metadata": {},
   "outputs": [
    {
     "name": "stdout",
     "output_type": "stream",
     "text": [
      "True\n",
      "False\n",
      "True\n",
      "True\n"
     ]
    }
   ],
   "source": [
    "# Operações relacionais = aquelas que retornam um valor booleano\n",
    "print(6 > 3)\n",
    "print(3 > 7)\n",
    "print(4 <= 4)\n",
    "print(5 == 5)"
   ]
  },
  {
   "cell_type": "markdown",
   "metadata": {},
   "source": [
    "# Listas\n",
    "listas são uma forma muito interessante de se guardar diversos valores dentro de somente uma variável, podendo guardar desde números até textos\n",
    "\n",
    "OBS: uma lista sempre tem uma dupla de COLCHETES [ ] no início e no final"
   ]
  },
  {
   "cell_type": "code",
   "execution_count": 73,
   "metadata": {},
   "outputs": [
    {
     "data": {
      "text/plain": [
       "list"
      ]
     },
     "execution_count": 73,
     "metadata": {},
     "output_type": "execute_result"
    }
   ],
   "source": [
    "# para criar uma lista basta utilizar o sinal de colchetes\n",
    "lista_ex = []\n",
    "type(lista_ex)"
   ]
  },
  {
   "cell_type": "code",
   "execution_count": 78,
   "metadata": {},
   "outputs": [
    {
     "name": "stdout",
     "output_type": "stream",
     "text": [
      "Eu\n",
      "adoro\n",
      "estudar\n",
      "python\n",
      "['Eu', 'adoro']\n"
     ]
    }
   ],
   "source": [
    "# indexação de uma lista\n",
    "lista_ex = [\"Eu\", \"adoro\", \"estudar\", \"python\"]\n",
    "print(lista_ex[0])\n",
    "print(lista_ex[1])\n",
    "print(lista_ex[2])\n",
    "print(lista_ex[3])\n",
    "print(lista_ex[0:2])"
   ]
  },
  {
   "cell_type": "code",
   "execution_count": 81,
   "metadata": {},
   "outputs": [
    {
     "name": "stdout",
     "output_type": "stream",
     "text": [
      "['Eu', 'adoro', 'estudar', 'python']\n",
      "python\n",
      "['Eu', 'adoro', 'estudar', 'Matemática']\n"
     ]
    }
   ],
   "source": [
    "# substiuição de valores em uma lista\n",
    "# basta usar a coordenada do item que deseja substituir e qual o novo valor atribuido\n",
    "lista_ex = [\"Eu\", \"adoro\", \"estudar\", \"python\"]\n",
    "print(lista_ex)\n",
    "print(lista_ex[3])\n",
    "lista_ex[3] = \"Matemática\"\n",
    "print(lista_ex)"
   ]
  },
  {
   "cell_type": "code",
   "execution_count": 4,
   "metadata": {},
   "outputs": [
    {
     "name": "stdout",
     "output_type": "stream",
     "text": [
      "['Eu', 'adoro', 'estudar', 'python']\n",
      "estudar\n",
      "['Eu', 'adoro', 'python']\n"
     ]
    }
   ],
   "source": [
    "# deletar itens de uma lista\n",
    "# basta utilizar o prefixo \"del\" e a coordenada do item a ser deletado\n",
    "lista_ex = [\"Eu\", \"adoro\", \"estudar\", \"python\"]\n",
    "print(lista_ex)\n",
    "print(lista_ex[2])\n",
    "del lista_ex[2]\n",
    "print(lista_ex)"
   ]
  },
  {
   "cell_type": "code",
   "execution_count": 5,
   "metadata": {},
   "outputs": [
    {
     "name": "stdout",
     "output_type": "stream",
     "text": [
      "[[1, 2, 3], [4, 5, 6], [7, 8, 9]]\n",
      "[1, 2, 3]\n",
      "2\n"
     ]
    }
   ],
   "source": [
    "# criar listas dentro de uma lista\n",
    "# basta criar mais estruturas com [] dentro da propria lista\n",
    "lista_ex = [[1,2,3],[4,5,6],[7,8,9]]\n",
    "print(lista_ex)\n",
    "print(lista_ex[0])\n",
    "print(lista_ex[0][1])\n",
    "# P.S: na hora de indexar uma coordenada lembre se de considerar as estruturas contidas\n",
    "# dentro da lista original"
   ]
  },
  {
   "cell_type": "code",
   "execution_count": 6,
   "metadata": {},
   "outputs": [
    {
     "name": "stdout",
     "output_type": "stream",
     "text": [
      "['Eu', 'adoro', 'estudar', 'python', [1, 2, 3], [4, 5, 6], [7, 8, 9]]\n"
     ]
    }
   ],
   "source": [
    "# somar duas listas\n",
    "# basta usar o valor de + para concatenar as duas listas na ordem dada na linha de codigo\n",
    "lista_ex = [\"Eu\", \"adoro\", \"estudar\", \"python\"]\n",
    "lista_ex2 = [[1,2,3],[4,5,6],[7,8,9]]\n",
    "lista_total = lista_ex + lista_ex2\n",
    "print(lista_total)"
   ]
  },
  {
   "cell_type": "code",
   "execution_count": 8,
   "metadata": {},
   "outputs": [
    {
     "name": "stdout",
     "output_type": "stream",
     "text": [
      "True\n",
      "False\n"
     ]
    }
   ],
   "source": [
    "# verificação de existencia de algum valor especifico\n",
    "lista_ex = [\"Eu\", \"adoro\", \"estudar\", \"python\"]\n",
    "print(\"Eu\" in lista_ex)\n",
    "print(10 in lista_ex)"
   ]
  },
  {
   "cell_type": "markdown",
   "metadata": {},
   "source": [
    "# Funções e métodos das listas"
   ]
  },
  {
   "cell_type": "code",
   "execution_count": 9,
   "metadata": {},
   "outputs": [
    {
     "data": {
      "text/plain": [
       "4"
      ]
     },
     "execution_count": 9,
     "metadata": {},
     "output_type": "execute_result"
    }
   ],
   "source": [
    "# Função LEN\n",
    "# checa o tamanho de uma lista e retorna ele pra voce\n",
    "lista_ex = [\"Eu\", \"adoro\", \"estudar\", \"python\"]\n",
    "len(lista_ex)"
   ]
  },
  {
   "cell_type": "code",
   "execution_count": 15,
   "metadata": {},
   "outputs": [
    {
     "name": "stdout",
     "output_type": "stream",
     "text": [
      "['Eu', 'adoro', 'estudar', 'python']\n",
      "['Eu', 'adoro', 'estudar', 'python', 'a noite']\n"
     ]
    }
   ],
   "source": [
    "# Método APPEND\n",
    "# adicionar item a uma lista [.append(\"x\")]\n",
    "lista_ex = [\"Eu\", \"adoro\", \"estudar\", \"python\"]\n",
    "print(lista_ex)\n",
    "lista_ex.append(\"a noite\")\n",
    "print(lista_ex)\n"
   ]
  },
  {
   "cell_type": "code",
   "execution_count": 16,
   "metadata": {},
   "outputs": [
    {
     "data": {
      "text/plain": [
       "1"
      ]
     },
     "execution_count": 16,
     "metadata": {},
     "output_type": "execute_result"
    }
   ],
   "source": [
    "# Método INDEX\n",
    "# checar qual a coordenada do valor x [.index(\"x\")]\n",
    "lista_ex = [\"Eu\", \"adoro\", \"estudar\", \"python\"]\n",
    "lista_ex.index(\"adoro\")\n",
    "# P.S: lembrando que a indexação do python começa com 0, então 1 é o SEGUNDO valor"
   ]
  },
  {
   "cell_type": "code",
   "execution_count": 17,
   "metadata": {},
   "outputs": [
    {
     "name": "stdout",
     "output_type": "stream",
     "text": [
      "['Eu', 'adoro', 'estudar', 'python']\n",
      "['Eu', 'Lucca Oliveira', 'adoro', 'estudar', 'python']\n"
     ]
    }
   ],
   "source": [
    "# Método INSERT\n",
    "# inserir valor em lista [.insert(coordenada, \"x\")]\n",
    "lista_ex = [\"Eu\", \"adoro\", \"estudar\", \"python\"]\n",
    "print(lista_ex)\n",
    "lista_ex.insert(1, \"Lucca Oliveira\")\n",
    "print(lista_ex)"
   ]
  },
  {
   "cell_type": "code",
   "execution_count": 19,
   "metadata": {},
   "outputs": [
    {
     "name": "stdout",
     "output_type": "stream",
     "text": [
      "['Eu', 'adoro', 'estudar', 'python']\n",
      "['Eu', 'adoro', 'estudar']\n"
     ]
    }
   ],
   "source": [
    "# Método REMOVE\n",
    "# remover item da lista [.remove(\"x\")]\n",
    "lista_ex = [\"Eu\", \"adoro\", \"estudar\", \"python\"]\n",
    "print(lista_ex)\n",
    "lista_ex.remove(\"python\")\n",
    "print(lista_ex)\n",
    "# P.S: lembrando que ele sempre vai procurar a PRIMEIRA aparição do item que voce escolheu\n",
    "# para remover, então tome cuidado com as duplicatas"
   ]
  },
  {
   "cell_type": "code",
   "execution_count": 20,
   "metadata": {},
   "outputs": [
    {
     "name": "stdout",
     "output_type": "stream",
     "text": [
      "['Eu', 'adoro', 'estudar', 'python']\n",
      "['python', 'estudar', 'adoro', 'Eu']\n"
     ]
    }
   ],
   "source": [
    "# Método REVERSE\n",
    "# colocar a lista ao contrário [.reverse()]\n",
    "lista_ex = [\"Eu\", \"adoro\", \"estudar\", \"python\"]\n",
    "print(lista_ex)\n",
    "lista_ex.reverse()\n",
    "print(lista_ex)"
   ]
  },
  {
   "cell_type": "code",
   "execution_count": null,
   "metadata": {},
   "outputs": [
    {
     "name": "stdout",
     "output_type": "stream",
     "text": [
      "10\n",
      "1\n"
     ]
    }
   ],
   "source": [
    "# Função MAX e MIN\n",
    "# valor maximo de uma lista [max()]\n",
    "# valor mínimo de uma lista [min()]\n",
    "lista_ex = [1, 2, 3, 4, 5, 6, 7, 8, 9, 10]\n",
    "print(max(lista_ex))\n",
    "print(min(lista_ex))\n",
    "# P.S: somente para listas compostas inteiramente por números"
   ]
  },
  {
   "cell_type": "code",
   "execution_count": 21,
   "metadata": {},
   "outputs": [
    {
     "name": "stdout",
     "output_type": "stream",
     "text": [
      "[1, 4, 5, 6, 7, 8, 9, 1, 0, 2, 3, 4, 5, 67, 2, 0]\n",
      "[0, 0, 1, 1, 2, 2, 3, 4, 4, 5, 5, 6, 7, 8, 9, 67]\n"
     ]
    }
   ],
   "source": [
    "# Método SORT\n",
    "# ele arruma a lista em ordem crescente\n",
    "lista_ex = [1,4,5,6,7,8,9,1,0,2,3,4,5,67,2,0]\n",
    "print(lista_ex)\n",
    "lista_ex.sort()\n",
    "print(lista_ex)\n",
    "# P.S: somente para listas compostas inteiramente por números"
   ]
  },
  {
   "cell_type": "markdown",
   "metadata": {},
   "source": [
    "# Dicionários\n",
    "é possivel comparar os dicionários a listas só que cada item é um par de chave:valor\n",
    "\n",
    "então enquanto uma lista é somente [1,2,3,4,5,6]\n",
    "\n",
    "o dicionário seria {1:\"lucca\", 2:\"bruna\", 3:\"Fulano\"}"
   ]
  },
  {
   "cell_type": "code",
   "execution_count": null,
   "metadata": {},
   "outputs": [],
   "source": [
    "# um exemplo de dicinário\n",
    "dict_ex = {\"Lucca\": 18, \"Bruna\": 20, \"Ronaldo\": 26}"
   ]
  },
  {
   "cell_type": "code",
   "execution_count": 22,
   "metadata": {},
   "outputs": [
    {
     "data": {
      "text/plain": [
       "18"
      ]
     },
     "execution_count": 22,
     "metadata": {},
     "output_type": "execute_result"
    }
   ],
   "source": [
    "# resgatar valor da chave\n",
    "# basta chamar o nome da chave pra retornar o valor\n",
    "dict_ex = {\"Lucca\": 18, \"Bruna\": 20, \"Ronaldo\": 26}\n",
    "dict_ex[\"Lucca\"]"
   ]
  },
  {
   "cell_type": "code",
   "execution_count": 23,
   "metadata": {},
   "outputs": [
    {
     "name": "stdout",
     "output_type": "stream",
     "text": [
      "{'Lucca': 18, 'Bruna': 20, 'Ronaldo': 26, 'Marcelo': 23}\n"
     ]
    }
   ],
   "source": [
    "# adicionar valores a um dicionário\n",
    "# basta especificar o nome da chave e o valor que eles serão atribuidos ao dicionário\n",
    "dict_ex = {\"Lucca\": 18, \"Bruna\": 20, \"Ronaldo\": 26}\n",
    "dict_ex[\"Marcelo\"] = 23\n",
    "print(dict_ex)"
   ]
  },
  {
   "cell_type": "code",
   "execution_count": 27,
   "metadata": {},
   "outputs": [],
   "source": [
    "# Deletar um dicionário\n",
    "# basta usar o prefixo del pra deletar o dicionario completamente\n",
    "dict_ex = {\"Lucca\": 18, \"Bruna\": 20, \"Ronaldo\": 26}\n",
    "del dict_ex"
   ]
  },
  {
   "cell_type": "code",
   "execution_count": 33,
   "metadata": {},
   "outputs": [
    {
     "data": {
      "text/plain": [
       "'PICANHA'"
      ]
     },
     "execution_count": 33,
     "metadata": {},
     "output_type": "execute_result"
    }
   ],
   "source": [
    "# operacoes com itens de listas dentro do dicionário {dicionário[item][valor].comando()}\n",
    "dict_lists = {\n",
    "    \"Chave1\": [\"picanha\", \"fraldinha\", \"alcatra\"],\n",
    "    \"Chave2\": 1230,\n",
    "    \"Chave3\": [22, 453, 73, 4],\n",
    "}\n",
    "dict_lists[\"Chave1\"][0].upper()"
   ]
  },
  {
   "cell_type": "code",
   "execution_count": 34,
   "metadata": {},
   "outputs": [
    {
     "name": "stdout",
     "output_type": "stream",
     "text": [
      "{'Chave1': ['picanha', 'fraldinha', 'alcatra'], 'Chave2': 1230, 'Chave3': [20, 453, 73, 4]}\n"
     ]
    }
   ],
   "source": [
    "dict_lists = {\n",
    "    \"Chave1\": [\"picanha\", \"fraldinha\", \"alcatra\"],\n",
    "    \"Chave2\": 1230,\n",
    "    \"Chave3\": [22, 453, 73, 4],\n",
    "}\n",
    "dict_lists[\"Chave3\"][0] -= 2\n",
    "print(dict_lists)"
   ]
  },
  {
   "cell_type": "markdown",
   "metadata": {},
   "source": [
    "# Métodos dos dicionários"
   ]
  },
  {
   "cell_type": "code",
   "execution_count": 25,
   "metadata": {},
   "outputs": [
    {
     "name": "stdout",
     "output_type": "stream",
     "text": [
      "{'Lucca': 18, 'Bruna': 20, 'Ronaldo': 26}\n",
      "{}\n"
     ]
    }
   ],
   "source": [
    "# Método CLEAR\n",
    "# limpar completamente um dicionário [.clear()]\n",
    "dict_ex = {\"Lucca\": 18, \"Bruna\": 20, \"Ronaldo\": 26}\n",
    "print(dict_ex)\n",
    "dict_ex.clear()\n",
    "print(dict_ex)"
   ]
  },
  {
   "cell_type": "code",
   "execution_count": 28,
   "metadata": {},
   "outputs": [
    {
     "data": {
      "text/plain": [
       "dict_keys(['Lucca', 'Bruna', 'Ronaldo'])"
      ]
     },
     "execution_count": 28,
     "metadata": {},
     "output_type": "execute_result"
    }
   ],
   "source": [
    "# Método KEYS\n",
    "# identificar somente os nomes dos itens no dicionario [.keys()]\n",
    "dict_ex = {\"Lucca\": 18, \"Bruna\": 20, \"Ronaldo\": 26}\n",
    "dict_ex.keys()"
   ]
  },
  {
   "cell_type": "code",
   "execution_count": 29,
   "metadata": {},
   "outputs": [
    {
     "data": {
      "text/plain": [
       "dict_values([18, 20, 26])"
      ]
     },
     "execution_count": 29,
     "metadata": {},
     "output_type": "execute_result"
    }
   ],
   "source": [
    "# Método VALUES\n",
    "# identificar somente os valores dos itens do dicionário [.values()]\n",
    "dict_ex = {\"Lucca\": 18, \"Bruna\": 20, \"Ronaldo\": 26}\n",
    "dict_ex.values()"
   ]
  },
  {
   "cell_type": "code",
   "execution_count": 32,
   "metadata": {},
   "outputs": [
    {
     "name": "stdout",
     "output_type": "stream",
     "text": [
      "{'Lucca': 18, 'Bruna': 20, 'Ronaldo': 24, 'Roberta': 55, 'Jessica': 24}\n"
     ]
    }
   ],
   "source": [
    "# Método UPDATE\n",
    "# atualizar valores de um dicionario com outro dicionário [.update()]\n",
    "dict_ex = {\"Lucca\": 18, \"Bruna\": 20, \"Ronaldo\": 26}\n",
    "dict_update = {\"Roberta\": 55, \"Jessica\": 24, \"Ronaldo\": 24}\n",
    "dict_ex.update(dict_update)\n",
    "print(dict_ex)"
   ]
  },
  {
   "cell_type": "markdown",
   "metadata": {},
   "source": [
    "# Tuplas\n",
    "São basicamente os conjuntos do python utilizados geralmente.\n",
    "\n",
    "a diferença é que a tupla é IMUTALEL, ou seja, não aceita mudanças de valores após sua criação"
   ]
  },
  {
   "cell_type": "code",
   "execution_count": 36,
   "metadata": {},
   "outputs": [
    {
     "data": {
      "text/plain": [
       "9"
      ]
     },
     "execution_count": 36,
     "metadata": {},
     "output_type": "execute_result"
    }
   ],
   "source": [
    "# verificar comprimento da tupla [len(x)]\n",
    "tupla_ex = \"Chocolate\"\n",
    "len(tupla_ex)"
   ]
  },
  {
   "cell_type": "code",
   "execution_count": 37,
   "metadata": {},
   "outputs": [
    {
     "data": {
      "text/plain": [
       "(23, 'Lucca', 9.8, 'Python')"
      ]
     },
     "execution_count": 37,
     "metadata": {},
     "output_type": "execute_result"
    }
   ],
   "source": [
    "tupla_ex = (\"Chocolate\", 23, \"Lucca\", 9.8, \"Python\")\n",
    "tupla_ex[1:]"
   ]
  },
  {
   "cell_type": "markdown",
   "metadata": {},
   "source": [
    "# Funções EXTRAS"
   ]
  },
  {
   "cell_type": "code",
   "execution_count": 2,
   "metadata": {},
   "outputs": [
    {
     "name": "stdout",
     "output_type": "stream",
     "text": [
      "[1, 2, 3, 4, 5]\n"
     ]
    },
    {
     "data": {
      "text/plain": [
       "[1, 4, 9, 16, 25]"
      ]
     },
     "execution_count": 2,
     "metadata": {},
     "output_type": "execute_result"
    }
   ],
   "source": [
    "# Função MAP\n",
    "# ela consegue apicar uma função a varios valores ao mesmo temo atraves de uma lista\n",
    "# P.S: usar o LIST na frente senão nao da certo\n",
    "def aoquadrado(x):\n",
    "    return x**2\n",
    "\n",
    "numeros = [1, 2, 3, 4, 5]\n",
    "print(numeros)\n",
    "list(map(aoquadrado, numeros))"
   ]
  },
  {
   "cell_type": "code",
   "execution_count": 3,
   "metadata": {},
   "outputs": [
    {
     "name": "stdout",
     "output_type": "stream",
     "text": [
      "[1, 2, 3, 4, 5, 6, 7, 8, 9, 10, 11, 12, 13, 14, 15, 16, 17, 18, 19, 20]\n"
     ]
    },
    {
     "data": {
      "text/plain": [
       "[2, 4, 6, 8, 10, 12, 14, 16, 18, 20]"
      ]
     },
     "execution_count": 3,
     "metadata": {},
     "output_type": "execute_result"
    }
   ],
   "source": [
    "# funcao FILTER\n",
    "# ele vai aplicar um filtro na lista especificada e gerará outra lista somente\n",
    "# com os itens que passaram no filtro\n",
    "lista = [1, 2, 3, 4, 5, 6, 7, 8, 9, 10, 11, 12, 13, 14, 15, 16, 17, 18, 19, 20]\n",
    "\n",
    "def verificapar(x):\n",
    "    if x % 2 == 0:\n",
    "        return True\n",
    "    else:\n",
    "        return False\n",
    "print(lista)\n",
    "list(filter(verificapar, lista))"
   ]
  },
  {
   "cell_type": "code",
   "execution_count": 8,
   "metadata": {},
   "outputs": [
    {
     "name": "stdout",
     "output_type": "stream",
     "text": [
      "[(1, 4), (2, 5), (3, 6)]\n",
      "[('a', 'c'), ('b', 'd')]\n",
      "[('a', 4), ('b', 5)]\n"
     ]
    }
   ],
   "source": [
    "# funcao ZIP\n",
    "# ele retorna uma lista com os itens de mesmo indice de cada lista aninhados em uma tupla\n",
    "# descartando qualquer item que não tenha seu par\n",
    "x = [1,2,3]\n",
    "y = [4,5,6]\n",
    "print(list(zip(x,y)))\n",
    "\n",
    "# ele tbm funciona com dicionários, só que ele vai unir as chaves\n",
    "d1 = {'a':1,'b':2}\n",
    "d2 = {'c':4,'d':5}\n",
    "print(list(zip(d1,d2)))\n",
    "\n",
    "# para unir valores basta utilizar o .values()\n",
    "print(list(zip(d1,d2.values())))"
   ]
  },
  {
   "cell_type": "code",
   "execution_count": 11,
   "metadata": {},
   "outputs": [
    {
     "name": "stdout",
     "output_type": "stream",
     "text": [
      "[(0, 'a'), (1, 'b'), (2, 'c')]\n",
      "[(0, 'D'), (1, 'a'), (2, 't'), (3, 'a'), (4, ' '), (5, 'S'), (6, 'c'), (7, 'i'), (8, 'e'), (9, 'n'), (10, 'c'), (11, 'e'), (12, ' '), (13, 'A'), (14, 'c'), (15, 'a'), (16, 'd'), (17, 'e'), (18, 'm'), (19, 'y')]\n"
     ]
    }
   ],
   "source": [
    "# funcão ENUMERATE\n",
    "# ele enumera cada um dos itens da lista aninhando o mesmo em uma tupla com o número\n",
    "# do índice\n",
    "seq = ['a','b','c']\n",
    "print(list(enumerate(seq)))\n",
    "\n",
    "# ele funciona também com strings\n",
    "\n",
    "seq = \"Data Science Academy\"\n",
    "print(list(enumerate(seq)))"
   ]
  },
  {
   "cell_type": "code",
   "execution_count": null,
   "metadata": {},
   "outputs": [],
   "source": []
  }
 ],
 "metadata": {
  "kernelspec": {
   "display_name": "base",
   "language": "python",
   "name": "python3"
  },
  "language_info": {
   "codemirror_mode": {
    "name": "ipython",
    "version": 3
   },
   "file_extension": ".py",
   "mimetype": "text/x-python",
   "name": "python",
   "nbconvert_exporter": "python",
   "pygments_lexer": "ipython3",
   "version": "3.11.7"
  }
 },
 "nbformat": 4,
 "nbformat_minor": 2
}
