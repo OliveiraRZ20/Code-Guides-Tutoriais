{
 "cells": [
  {
   "cell_type": "markdown",
   "metadata": {},
   "source": [
    "# Classes\n",
    "\n",
    "explicando de uma maneira curta e grossa, classes em python é como se voce estivesse criando um objeto capaz de ter métodos (comandos de linguagem), em python tudo é um objeto, então quando vc chama um método tipo o .reverse() ele está chamando uma classe que contém esse método que seria a classe List que contém o método reverse()"
   ]
  },
  {
   "cell_type": "code",
   "execution_count": 3,
   "metadata": {},
   "outputs": [
    {
     "data": {
      "text/plain": [
       "10"
      ]
     },
     "execution_count": 3,
     "metadata": {},
     "output_type": "execute_result"
    }
   ],
   "source": [
    "# criação da classe e sua função construtora\n",
    "# todas as classes que voce criar vão ter que ter essa função __init__\n",
    "# a partir dela voce pode interpretar como uma área para o estabelecimento \n",
    "# de variáveis, pois a partir do momento que voce esta programando uma classe\n",
    "# as unicas variaveis que estarão disponiveis são aquelas que voce declarou\n",
    "# no método __init__\n",
    "\n",
    "class teste:\n",
    "    def __init__(self, x1,x2,x3):\n",
    "        self.ex1 = x1\n",
    "        self.ex2 = x2\n",
    "        self.ex3 = x3\n",
    "\n",
    "exemplo = teste(10,20,30) # experimente trocar\n",
    "\n",
    "exemplo.ex1"
   ]
  },
  {
   "cell_type": "code",
   "execution_count": 5,
   "metadata": {},
   "outputs": [
    {
     "name": "stdout",
     "output_type": "stream",
     "text": [
      "Nome: Lucca\n",
      "Salario: 2000\n",
      "Cargo: Programador\n"
     ]
    }
   ],
   "source": [
    "# criação de métodos para a classe\n",
    "# métodos podem ser traduzidos para funções python quando se trata\n",
    "# da criação dos mesmos\n",
    "\n",
    "class Funcionarios:\n",
    "    def __init__(self,nome,salario,cargo):\n",
    "        self.nome = nome\n",
    "        self.salario = salario\n",
    "        self.cargo = cargo\n",
    "        \n",
    "    def retornafunc(self):\n",
    "        print(\"Nome: \" + self.nome)\n",
    "        print(\"Salario: \" + str(self.salario))\n",
    "        print(\"Cargo: \" + self.cargo)\n",
    "        \n",
    "funcionario_1 = Funcionarios(\"Lucca\",2000,\"Programador\")\n",
    "\n",
    "funcionario_1.retornafunc()"
   ]
  },
  {
   "cell_type": "code",
   "execution_count": 9,
   "metadata": {},
   "outputs": [
    {
     "name": "stdout",
     "output_type": "stream",
     "text": [
      "Animal Criado.\n",
      "Este é um animal.\n",
      "Hora de comer.\n",
      "|===========|\n",
      "Animal Criado.\n",
      "Cachorro Criado.\n",
      "Este é um animal.\n",
      "Hora de comer.\n",
      "Au au!\n"
     ]
    }
   ],
   "source": [
    "# Criação de uma herança de classes\n",
    "# é uma estratégia para não repetir as mesmas funções\n",
    "# entre as diversas classes utilizadas\n",
    "\n",
    "class Animal: # criação da classe MÃE\n",
    "    def __init__(self):\n",
    "        print(\"Animal Criado.\")\n",
    "    def imprimir(self):\n",
    "        print(\"Este é um animal.\")\n",
    "    def comer(self):\n",
    "        print(\"Hora de comer.\")\n",
    "    def emitir_som(self):\n",
    "        pass\n",
    "\n",
    "\n",
    "class Cachorro(Animal): # criação da classe FILHA\n",
    "    def __init__(self):\n",
    "        Animal.__init__(self) # herança do método construtor da classe MÃE\n",
    "        print(\"Cachorro Criado.\")\n",
    "    def emitir_som(self):\n",
    "        print(\"Au au!\")\n",
    "        \n",
    "Animal_1 = Animal()\n",
    "Animal_1.imprimir()\n",
    "Animal_1.comer()\n",
    "Animal_1.emitir_som()\n",
    "print(\"|===========|\")\n",
    "Animal_2 = Cachorro()\n",
    "Animal_2.imprimir()\n",
    "Animal_2.comer()\n",
    "Animal_2.emitir_som()\n",
    "    "
   ]
  },
  {
   "cell_type": "markdown",
   "metadata": {},
   "source": [
    "# Funções das classes"
   ]
  },
  {
   "cell_type": "code",
   "execution_count": null,
   "metadata": {},
   "outputs": [],
   "source": [
    "# Criação da classe\n",
    "class teste:\n",
    "    def __init__(self, x1,x2,x3):\n",
    "        self.num1 = x1\n",
    "        self.num2 = x2\n",
    "        self.num3 = x3"
   ]
  },
  {
   "cell_type": "code",
   "execution_count": 15,
   "metadata": {},
   "outputs": [
    {
     "data": {
      "text/plain": [
       "True"
      ]
     },
     "execution_count": 15,
     "metadata": {},
     "output_type": "execute_result"
    }
   ],
   "source": [
    "# Função HASATTR\n",
    "# se traduz para has atribute (tem o atributo?)\n",
    "# ele retorna True ou False para o nome do método escolhido\n",
    "ex1 = teste(1,2,3)\n",
    "hasattr(ex1, \"num1\")"
   ]
  },
  {
   "cell_type": "code",
   "execution_count": 16,
   "metadata": {},
   "outputs": [
    {
     "data": {
      "text/plain": [
       "False"
      ]
     },
     "execution_count": 16,
     "metadata": {},
     "output_type": "execute_result"
    }
   ],
   "source": [
    "hasattr(ex1, \"num4\")"
   ]
  },
  {
   "cell_type": "code",
   "execution_count": 17,
   "metadata": {},
   "outputs": [
    {
     "data": {
      "text/plain": [
       "1"
      ]
     },
     "execution_count": 17,
     "metadata": {},
     "output_type": "execute_result"
    }
   ],
   "source": [
    "# Função GETATTR\n",
    "# se traduz para get atribute (pegue o atributo)\n",
    "# ele retorna o valor do atributo escolhido caso o mesmo exista\n",
    "getattr(ex1, \"num1\")"
   ]
  },
  {
   "cell_type": "code",
   "execution_count": 18,
   "metadata": {},
   "outputs": [
    {
     "ename": "AttributeError",
     "evalue": "'teste' object has no attribute 'num4'",
     "output_type": "error",
     "traceback": [
      "\u001b[1;31m---------------------------------------------------------------------------\u001b[0m",
      "\u001b[1;31mAttributeError\u001b[0m                            Traceback (most recent call last)",
      "Cell \u001b[1;32mIn[18], line 1\u001b[0m\n\u001b[1;32m----> 1\u001b[0m \u001b[38;5;28mgetattr\u001b[39m(ex1, \u001b[38;5;124m\"\u001b[39m\u001b[38;5;124mnum4\u001b[39m\u001b[38;5;124m\"\u001b[39m)\n",
      "\u001b[1;31mAttributeError\u001b[0m: 'teste' object has no attribute 'num4'"
     ]
    }
   ],
   "source": [
    "getattr(ex1, \"num4\")"
   ]
  },
  {
   "cell_type": "code",
   "execution_count": 22,
   "metadata": {},
   "outputs": [
    {
     "name": "stdout",
     "output_type": "stream",
     "text": [
      "1\n"
     ]
    },
    {
     "ename": "AttributeError",
     "evalue": "'teste' object has no attribute 'num1'",
     "output_type": "error",
     "traceback": [
      "\u001b[1;31m---------------------------------------------------------------------------\u001b[0m",
      "\u001b[1;31mAttributeError\u001b[0m                            Traceback (most recent call last)",
      "Cell \u001b[1;32mIn[22], line 12\u001b[0m\n\u001b[0;32m     10\u001b[0m \u001b[38;5;28mprint\u001b[39m(\u001b[38;5;28mgetattr\u001b[39m(ex1,\u001b[38;5;124m\"\u001b[39m\u001b[38;5;124mnum1\u001b[39m\u001b[38;5;124m\"\u001b[39m))\n\u001b[0;32m     11\u001b[0m \u001b[38;5;28mdelattr\u001b[39m(ex1, \u001b[38;5;124m\"\u001b[39m\u001b[38;5;124mnum1\u001b[39m\u001b[38;5;124m\"\u001b[39m)\n\u001b[1;32m---> 12\u001b[0m \u001b[38;5;28mprint\u001b[39m(\u001b[38;5;28mgetattr\u001b[39m(ex1,\u001b[38;5;124m\"\u001b[39m\u001b[38;5;124mnum1\u001b[39m\u001b[38;5;124m\"\u001b[39m))\n",
      "\u001b[1;31mAttributeError\u001b[0m: 'teste' object has no attribute 'num1'"
     ]
    }
   ],
   "source": [
    "# Função DELATTR\n",
    "# se traduz para Delete atribute (deletar atributo)\n",
    "# ele vai literalmente deletar o atributo escolhido se o mesmo existir\n",
    "class teste:\n",
    "    def __init__(self, x1,x2,x3):\n",
    "        self.num1 = x1\n",
    "        self.num2 = x2\n",
    "        self.num3 = x3\n",
    "ex1 = teste(1,2,3)\n",
    "print(getattr(ex1,\"num1\"))\n",
    "delattr(ex1, \"num1\")\n",
    "print(getattr(ex1,\"num1\"))"
   ]
  },
  {
   "cell_type": "markdown",
   "metadata": {},
   "source": [
    "# Exemplos de aplicação das classes"
   ]
  },
  {
   "cell_type": "code",
   "execution_count": null,
   "metadata": {},
   "outputs": [],
   "source": [
    "# Calcular a área do circulo\n",
    "class Circulo():\n",
    "    pi = 3.14\n",
    "    \n",
    "    def __init__(self, raio = 5):\n",
    "        self.raio = raio\n",
    "        \n",
    "    def area(self):\n",
    "        return (self.raio * self.raio) * Circulo.pi\n",
    "    \n",
    "    def setraio(self, novo_raio):\n",
    "        self.raio = novo_raio\n",
    "        \n",
    "    def GetRaio(self):\n",
    "        return self.raio"
   ]
  },
  {
   "cell_type": "code",
   "execution_count": null,
   "metadata": {},
   "outputs": [],
   "source": [
    "# Operações matematicas com dois numeros\n",
    "class Math:\n",
    "    def __init__(self, num1, num2):\n",
    "        self.num1 = num1\n",
    "        self.num2 = num2\n",
    "        self.soma = num1 + num2\n",
    "        self.subtracao = num1 - num2\n",
    "        self.multiplicacao = num1 * num2\n",
    "        self.divisao = num1 / num2\n",
    "        \n",
    "    def faztudo(self):\n",
    "        print(f\"Realizando todos os calculos com os dois numeros temos os seguintes resultados\\nSoma = {self.num1} + {self.num2} = {self.soma}\\nSubtracao = {self.num1} - {self.num2} = {self.subtracao}\\nMultiplicacao = {self.num1} x {self.num2} = {self.multiplicacao}\\nDivisao = {self.num1} / {self.num2} = {self.divisao}\")\n",
    "\n",
    "x1 = int(input(\"Primeiro número: \"))\n",
    "x2 = int(input(\"Segundo número: \"))\n",
    "\n",
    "numeros = Math(x1, x2)\n",
    "numeros.faztudo()"
   ]
  }
 ],
 "metadata": {
  "kernelspec": {
   "display_name": "base",
   "language": "python",
   "name": "python3"
  },
  "language_info": {
   "codemirror_mode": {
    "name": "ipython",
    "version": 3
   },
   "file_extension": ".py",
   "mimetype": "text/x-python",
   "name": "python",
   "nbconvert_exporter": "python",
   "pygments_lexer": "ipython3",
   "version": "3.11.7"
  }
 },
 "nbformat": 4,
 "nbformat_minor": 2
}
